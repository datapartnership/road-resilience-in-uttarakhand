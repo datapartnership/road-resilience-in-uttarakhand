{
 "cells": [
  {
   "cell_type": "markdown",
   "metadata": {},
   "source": [
    "#### geospatial2\n",
    "\n",
    " - geospatial exploratory file"
   ]
  },
  {
   "cell_type": "code",
   "execution_count": null,
   "metadata": {},
   "outputs": [],
   "source": [
    "import geopandas as gpd\n",
    "import matplotlib.pyplot as plt\n",
    "import numpy as np\n",
    "from rasterstats import zonal_stats\n",
    "import richdem as rd\n",
    "import elevation\n",
    "import rasterio"
   ]
  },
  {
   "cell_type": "code",
   "execution_count": null,
   "metadata": {},
   "outputs": [],
   "source": [
    "def get_dem(gdf):\n",
    "    left, right, up, down = gdf.bounds\n",
    "    elevation.clip(bounds=(left, right, up, down), output='/home/jovyan/work/data/utt-dem.tif')\n",
    "    # clean up stale temporary files and fix the cache in the event of a server error\n",
    "    elevation.clean()\n",
    "\n",
    "def get_aspect():\n",
    "    src = rd.LoadGDAL('/home/jovyan/work/data/utt-dem.tif')\n",
    "    aspect = rd.TerrainAttribute(src, attrib='aspect')\n",
    "    rd.SaveGDAL('/home/jovyan/work/data/utt-aspect.tif', aspect)\n",
    "    \n",
    "# def process_terrain_attributes():\n",
    "#     elev = rasterio.open('/home/jovyan/work/data/utt-dem.tif')\n",
    "#     !gdalwarp -t_srs EPSG:32644 /home/jovyan/work/data/utt.tif /home/jovyan/work/data/utt-dem-utm.tif\n",
    "    \n",
    "#     src = rd.LoadGDAL('/home/jovyan/work/data/utt-dem-utm.tif')\n",
    "#     slope = rd.TerrainAttribute(src, attrib='slope_degrees')\n",
    "#     rd.SaveGDAL('/home/jovyan/work/data/utt-slope-utm.tif', slope)\n",
    "#     !gdalwarp -t_srs EPSG:4326 /home/jovyan/work/data/utt-slope-utm.tif /home/jovyan/work/data/utt-slope.tif"
   ]
  },
  {
   "cell_type": "code",
   "execution_count": null,
   "metadata": {},
   "outputs": [],
   "source": [
    "#need to pick a road and add the data\n",
    "#open the road files\n",
    "road = gpd.read_file('/home/jovyan/work/notebooks/05-methods/closure-data/2021-06-28.gpkg')\n",
    "road['elev_max'] = np.nan\n",
    "road['elev_avg'] = np.nan\n",
    "road['slope_max'] = np.nan\n",
    "road['slope_avg'] = np.nan\n",
    "road['aspect_avg'] = np.nan"
   ]
  },
  {
   "cell_type": "code",
   "execution_count": null,
   "metadata": {},
   "outputs": [],
   "source": [
    "aspect"
   ]
  },
  {
   "cell_type": "code",
   "execution_count": null,
   "metadata": {},
   "outputs": [],
   "source": [
    "for index, row in road.iterrows():\n",
    "    geom = row['geometry']\n",
    "    get_dem(geom)\n",
    "    #process_terrain_attributes()\n",
    "    get_aspect()\n",
    "    elev = rasterio.open('/home/jovyan/work/data/utt-dem.tif')\n",
    "    #slope = rasterio.open('/home/jovyan/work/data/utt-slope.tif')\n",
    "    aspect = rasterio.open('/home/jovyan/work/data/utt-aspect.tif')\n",
    "    elev_stats = zonal_stats(geom, \n",
    "            elev.read(1), affine=elev.transform,\n",
    "            stats=\"count min mean max median\")\n",
    "#     slope_stats = zonal_stats(geom, \n",
    "#             slope.read(1), affine=slope.transform,\n",
    "#             stats=\"count min mean max median\")\n",
    "    slope_stats = zonal_stats(geom, \n",
    "            slope2.read(1), affine=slope2.transform,\n",
    "            stats=\"count min mean max median\")\n",
    "    aspect_stats = zonal_stats(geom, \n",
    "            aspect.read(1), affine=aspect.transform,\n",
    "            stats=\"count mean\")\n",
    "    \n",
    "    #update the road thing\n",
    "    road.iloc[index, road.columns.get_loc(\"elev_max\")] = elev_stats[0]['max']\n",
    "    road.iloc[index, road.columns.get_loc(\"elev_avg\")] = elev_stats[0]['mean']\n",
    "    road.iloc[index, road.columns.get_loc(\"slope_max\")] = slope_stats[0]['max']\n",
    "    road.iloc[index, road.columns.get_loc(\"slope_avg\")] = slope_stats[0]['mean']\n",
    "    road.iloc[index, road.columns.get_loc(\"aspect_avg\")] = aspect_stats[0]['mean']"
   ]
  },
  {
   "cell_type": "code",
   "execution_count": null,
   "metadata": {},
   "outputs": [],
   "source": [
    "road.loc[road['status']==1]"
   ]
  },
  {
   "cell_type": "code",
   "execution_count": null,
   "metadata": {},
   "outputs": [],
   "source": [
    "test = rasterio.open('output.tif')"
   ]
  },
  {
   "cell_type": "code",
   "execution_count": null,
   "metadata": {},
   "outputs": [],
   "source": [
    "test.read(1)"
   ]
  },
  {
   "cell_type": "code",
   "execution_count": null,
   "metadata": {},
   "outputs": [],
   "source": [
    "rda = rd.rdarray(test.read(1), no_data=-9999)"
   ]
  },
  {
   "cell_type": "code",
   "execution_count": null,
   "metadata": {},
   "outputs": [],
   "source": [
    "#rd.no_data=-9999\n",
    "rd.rdShow(rda, axes=False, cmap='magma', figsize=(8, 5.5))\n",
    "plt.show()"
   ]
  },
  {
   "cell_type": "code",
   "execution_count": null,
   "metadata": {},
   "outputs": [],
   "source": [
    "elev = rasterio.open('/home/jovyan/work/data/utt.tif')\n",
    "\n",
    "#change projection\n",
    "!gdalwarp -t_srs EPSG:32644 /home/jovyan/work/data/utt.tif /home/jovyan/work/data/output.tif\n",
    "    \n",
    "#slope\n",
    "dem_path = '/home/jovyan/work/data/output.tif'\n",
    "src = rd.LoadGDAL(dem_path)\n",
    "slope = rd.TerrainAttribute(src, attrib='slope_degrees')\n",
    "rd.rdShow(slope, axes=False, cmap='magma', figsize=(8, 5.5))\n",
    "plt.show()\n",
    "\n",
    "#curvature\n",
    "\n",
    "#roughness\n",
    "\n",
    "#aspect\n",
    "\n",
    "#idk lol"
   ]
  },
  {
   "cell_type": "code",
   "execution_count": null,
   "metadata": {},
   "outputs": [],
   "source": [
    "slope2 = rasterio.open('utt-slope.tif')"
   ]
  },
  {
   "cell_type": "code",
   "execution_count": null,
   "metadata": {},
   "outputs": [],
   "source": [
    "geo = road.head(1)['geometry']"
   ]
  },
  {
   "cell_type": "code",
   "execution_count": null,
   "metadata": {},
   "outputs": [],
   "source": [
    "geo"
   ]
  },
  {
   "cell_type": "code",
   "execution_count": null,
   "metadata": {},
   "outputs": [],
   "source": [
    "slope_stats = zonal_stats(geo, \n",
    "            slope2.read(1), affine=slope2.transform,\n",
    "            stats=\"count min mean max median\")"
   ]
  },
  {
   "cell_type": "code",
   "execution_count": null,
   "metadata": {},
   "outputs": [],
   "source": [
    "slope_stats"
   ]
  },
  {
   "cell_type": "code",
   "execution_count": null,
   "metadata": {},
   "outputs": [],
   "source": [
    "for index, row in road.head(1).iterrows():\n",
    "    geom = row['geometry']\n",
    "    get_dem(geom)\n",
    "    process_terrain_attributes()\n",
    "    elev = rasterio.open('/home/jovyan/work/data/utt-dem.tif')\n",
    "    slope = rasterio.open('/home/jovyan/work/data/utt-slope.tif')\n",
    "    print(slope.crs)\n",
    "    elev_stats = zonal_stats(geom, \n",
    "            elev.read(1), affine=elev.transform,\n",
    "            stats=\"count min mean max median\")\n",
    "    slope_stats = zonal_stats(geom, \n",
    "            slope.read(1), affine=slope.transform,\n",
    "            stats=\"count min mean max median\")\n",
    "    print(elev_stats)\n",
    "    print(slope_stats)"
   ]
  },
  {
   "cell_type": "code",
   "execution_count": null,
   "metadata": {},
   "outputs": [],
   "source": [
    "!gdalwarp -t_srs EPSG:32644 /home/jovyan/work/data/utt.tif /home/jovyan/work/data/output.tif"
   ]
  },
  {
   "cell_type": "code",
   "execution_count": null,
   "metadata": {},
   "outputs": [],
   "source": [
    "#slope\n",
    "#dem_path = \"n30_e078_1arc_v3.tif\"\n",
    "dem = rd.LoadGDAL(dem_path)\n",
    "slope = rd.TerrainAttribute(dem, attrib='slope_degrees')\n",
    "rd.rdShow(slope, axes=False, cmap='magma', figsize=(8, 5.5))\n",
    "plt.show()"
   ]
  }
 ],
 "metadata": {
  "kernelspec": {
   "display_name": "Python 3",
   "language": "python",
   "name": "python3"
  },
  "language_info": {
   "codemirror_mode": {
    "name": "ipython",
    "version": 3
   },
   "file_extension": ".py",
   "mimetype": "text/x-python",
   "name": "python",
   "nbconvert_exporter": "python",
   "pygments_lexer": "ipython3",
   "version": "3.8.5"
  }
 },
 "nbformat": 4,
 "nbformat_minor": 4
}
