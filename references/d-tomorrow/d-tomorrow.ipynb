{
 "cells": [
  {
   "cell_type": "markdown",
   "metadata": {},
   "source": [
    "### Tomorrow.io Notes (free version)\n",
    "\n",
    "Exploration of tomorrow.io's weather API"
   ]
  },
  {
   "cell_type": "code",
   "execution_count": 1,
   "metadata": {},
   "outputs": [],
   "source": [
    "import requests\n",
    "import pandas as pd\n",
    "import json\n",
    "import numpy as np\n",
    "import matplotlib.pyplot as plt\n",
    "from scipy import integrate\n",
    "from datetime import datetime, time, timedelta\n",
    "import statsmodels.api as sm\n",
    "\n",
    "KEY = \"BSeLVQzecQssiPyaI4CBmkFdvMvGarYa\" #add personal key here"
   ]
  },
  {
   "cell_type": "markdown",
   "metadata": {},
   "source": [
    "#### 1 Overview\n",
    "\n",
    "Tomorrow.io has two main data formats - data layers and insights. \n",
    " - Data layers can be thought of as \"raw data\", ie. precipitation rate, temperature, soil moisture, etc.\n",
    " - Insights, such as probability of a flood or a fire, are calculated from the data layers.\n",
    " \n",
    "The two data formats are retrieved in different ways - data layers are retrieved as timelines, while insights are retrieved as events. "
   ]
  },
  {
   "cell_type": "markdown",
   "metadata": {},
   "source": [
    "#### 2 Querying Locations\n",
    "\n",
    "Locations can be queried as Points (free trial) or as LineStrings/Polygons (paid version), and should follow the [formats specified in the docs](https://docs.tomorrow.io/reference/api-formats#locations). You can also check out the [RFC 7946 appendix](https://datatracker.ietf.org/doc/html/rfc7946#appendix-A) for more specifics on how to format locations."
   ]
  },
  {
   "cell_type": "markdown",
   "metadata": {},
   "source": [
    "##### 2a Points\n",
    "\n",
    "Points can be queried as `latitude,longitude` strings, like so:"
   ]
  },
  {
   "cell_type": "code",
   "execution_count": null,
   "metadata": {},
   "outputs": [],
   "source": [
    "point = '30.2, 78.7'"
   ]
  },
  {
   "cell_type": "markdown",
   "metadata": {},
   "source": [
    "##### 2b LineStrings\n",
    "\n",
    "To query a LineString, use tomorrow.io's Location API to define a location first. You can read [Location API docs](https://docs.tomorrow.io/reference/post-locations) for more information, or use the function below:\n",
    "\n",
    "**NOTE: need to make sure this works, can't do this with a free trial. but should work because it runs into a forbidden access error**"
   ]
  },
  {
   "cell_type": "code",
   "execution_count": 11,
   "metadata": {},
   "outputs": [
    {
     "data": {
      "text/plain": [
       "<Response [403]>"
      ]
     },
     "execution_count": 11,
     "metadata": {},
     "output_type": "execute_result"
    }
   ],
   "source": [
    "def get_line(coordinates,name):\n",
    "    url = 'https://api.tomorrow.io/v4/locations?apikey=' + KEY\n",
    "    payload = {\n",
    "        \"geometry\": {\n",
    "            \"type\": \"LineString\",\n",
    "            \"coordinates\": coordinates},\n",
    "        \"name\": name\n",
    "    }\n",
    "    headers = {\n",
    "        \"Accept\": \"application/json\",\n",
    "        \"Content-Type\": \"application/json\"\n",
    "    }\n",
    "    response = requests.request(\"POST\", url, json=payload, headers=headers)\n",
    "    return response\n",
    "\n",
    "coordinates = [[30.3397,79.3156], [30.3641,79.3136]]\n",
    "name = 'NH7'\n",
    "get_line(coordinates,name)"
   ]
  },
  {
   "cell_type": "markdown",
   "metadata": {},
   "source": [
    "##### 2c Polygons\n",
    "\n",
    "Similarly, you can use the Location API to query a polygon. A sample function is written below:\n",
    "\n",
    "**NOTE: not convinced that this works because it gives a 400 error instead of 403 (bad request)**"
   ]
  },
  {
   "cell_type": "code",
   "execution_count": 10,
   "metadata": {},
   "outputs": [
    {
     "data": {
      "text/plain": [
       "<Response [400]>"
      ]
     },
     "execution_count": 10,
     "metadata": {},
     "output_type": "execute_result"
    }
   ],
   "source": [
    "def get_polygon(coordinates,name):\n",
    "    url = 'https://api.tomorrow.io/v4/locations?apikey=' + KEY\n",
    "    payload = {\n",
    "        \"geometry\": {\n",
    "            \"type\": \"Polygon\",\n",
    "            \"coordinates\": coordinates},\n",
    "        \"name\": name\n",
    "    }\n",
    "    headers = {\n",
    "        \"Accept\": \"application/json\",\n",
    "        \"Content-Type\": \"application/json\"\n",
    "    }\n",
    "    response = requests.request(\"POST\", url, json=payload, headers=headers)\n",
    "    return response\n",
    "\n",
    "coordinates = [[30.3397,79.3156], [30.3641,79.3136], [30.3,79.3]]\n",
    "name = 'NH7'\n",
    "get_polygon(coordinates,name)"
   ]
  },
  {
   "cell_type": "markdown",
   "metadata": {},
   "source": [
    "#### 3 Retrieving Data Layers/Timelines"
   ]
  },
  {
   "cell_type": "markdown",
   "metadata": {},
   "source": [
    "It would be best to first read the [Data Layers Overview](https://docs.tomorrow.io/reference/data-layers-overview) and the [Timelines Overview](https://docs.tomorrow.io/reference/timeline-overview).\n",
    "\n",
    "Tomorrow.io requires some query params to retrieve a timeline, which are detailed on the [Get Timelines page](https://docs.tomorrow.io/reference/get-timelines). Some additional notes on each parameter:\n",
    " - `location:` input as described above\n",
    " - `fields:` full list of fields in alphabetical order found on the [Data Layers Overview](https://docs.tomorrow.io/reference/data-layers-overview). They are also categorized as [Core Layers](https://docs.tomorrow.io/reference/data-layers-core) and more specific layers - for example, [Air Quality](https://docs.tomorrow.io/reference/data-layers-air). \n",
    "    - When querying lines or polygons, you can append a suffix (`Max`, `Min`, `Avg`, `MaxTime/MinTime`). For example, entering `temperatureAvg` as a field will return the average temperature in the line/polygon. \n",
    "    - Check out the [Data Layers Overview](https://docs.tomorrow.io/reference/data-layers-overview) and the [Timelines Overview](https://docs.tomorrow.io/reference/timeline-overview) for limitations/specifics on suffixes. \n",
    " - `units`, `timesteps`: full list of availability found on [Data Layers Overview](https://docs.tomorrow.io/reference/data-layers-overview).\n",
    " - `timezone`: function below sets default timezone as `America/New_York`, but can be changed by editing the function.\n",
    " - `startTime`, `endTime`: must be in ISO 8601 format - you can use the `datetime` module in Python to convert dates to this format if necessary.\n",
    "    - Both are optional parameters - Tomorrow.io has built-in default values."
   ]
  },
  {
   "cell_type": "code",
   "execution_count": 2,
   "metadata": {},
   "outputs": [],
   "source": [
    "def call_point(point, fields, timestep, start=None, end=None):\n",
    "    #perform API call\n",
    "    url = 'https://api.tomorrow.io/v4/timelines?apikey=' + KEY\n",
    "    querystring = {\n",
    "        'location': point, \n",
    "        'fields': fields, \n",
    "        'units':'metric', \n",
    "        'timesteps': timestep, \n",
    "        'timezone': 'America/New_York',\n",
    "        'startTime': start,\n",
    "        'endTime': end\n",
    "    }\n",
    "    headers = {'Accept': 'application/json'}\n",
    "    response = requests.request(\"GET\", url, headers=headers, params=querystring)\n",
    "    return response"
   ]
  },
  {
   "cell_type": "code",
   "execution_count": 2,
   "metadata": {},
   "outputs": [],
   "source": [
    "def call_line(coordinates, fields, timestep):\n",
    "    #perform API call\n",
    "    url = 'https://api.tomorrow.io/v4/timelines?apikey=' + KEY\n",
    "    \n",
    "    payload = {\n",
    "        'units':'metric', \n",
    "        'timesteps': timestep, \n",
    "        'location': point, \n",
    "        'fields': fields, \n",
    "        'timezone': 'America/New_York',\n",
    "        #'startTime': start,\n",
    "        #'endTime': end,\n",
    "        'location': {\n",
    "            'type': 'LineString',\n",
    "            'coordinates': coordinates},\n",
    "    }\n",
    "    \n",
    "    headers = {\n",
    "    \"Accept\": \"application/json\",\n",
    "    \"Content-Type\": \"application/json\"\n",
    "    }\n",
    "    \n",
    "    response = requests.request(\"POST\", url, json=payload, headers=headers)\n",
    "    return response"
   ]
  },
  {
   "cell_type": "code",
   "execution_count": 3,
   "metadata": {},
   "outputs": [],
   "source": [
    "point = '30.2, 78.5'\n",
    "coordinates = [[79.3156,30.3397], [79.3136,30.3641,], [79.3,30.3]]\n",
    "fields = ['precipitationIntensityMax', 'rainAccumulation', 'temperature', 'windSpeed', 'soilMoistureVolumetric0To10']\n",
    "timestep = ['1h']\n",
    "\n",
    "#data = call_point(point, fields, timestep)\n",
    "data_line = call_line(coordinates, fields, timestep)"
   ]
  },
  {
   "cell_type": "code",
   "execution_count": 4,
   "metadata": {},
   "outputs": [
    {
     "data": {
      "text/plain": [
       "'{\"data\":{\"timelines\":[{\"timestep\":\"1h\",\"startTime\":\"2021-09-02T20:00:00-04:00\",\"endTime\":\"2021-09-07T08:00:00-04:00\",\"intervals\":[{\"startTime\":\"2021-09-02T20:00:00-04:00\",\"values\":{\"rainAccumulation\":0,\"precipitationIntensityMax\":0,\"temperature\":17.19,\"windSpeed\":0.69,\"soilMoistureVolumetric0To10\":33.73}},{\"startTime\":\"2021-09-02T21:00:00-04:00\",\"values\":{\"rainAccumulation\":0,\"precipitationIntensityMax\":0,\"temperature\":20.89,\"windSpeed\":0.95,\"soilMoistureVolumetric0To10\":33.73}},{\"startTime\":\"2021-09-02T22:00:00-04:00\",\"values\":{\"rainAccumulation\":0,\"precipitationIntensityMax\":0,\"temperature\":20.85,\"windSpeed\":0.78,\"soilMoistureVolumetric0To10\":33.71}},{\"startTime\":\"2021-09-02T23:00:00-04:00\",\"values\":{\"rainAccumulation\":0,\"precipitationIntensityMax\":0,\"temperature\":21.34,\"windSpeed\":0.52,\"soilMoistureVolumetric0To10\":33.61}},{\"startTime\":\"2021-09-03T00:00:00-04:00\",\"values\":{\"rainAccumulation\":0,\"precipitationIntensityMax\":0,\"temperature\":22.42,\"windSpeed\":0.25,\"soilMoistureVolumetric0To10\":33.59}},{\"startTime\":\"2021-09-03T01:00:00-04:00\",\"values\":{\"rainAccumulation\":0,\"precipitationIntensityMax\":0.0172,\"temperature\":23.76,\"windSpeed\":0.48,\"soilMoistureVolumetric0To10\":33.56}},{\"startTime\":\"2021-09-03T02:00:00-04:00\",\"values\":{\"rainAccumulation\":0,\"precipitationIntensityMax\":0.4721,\"temperature\":25.09,\"windSpeed\":1.38,\"soilMoistureVolumetric0To10\":33.55}},{\"startTime\":\"2021-09-03T03:00:00-04:00\",\"values\":{\"rainAccumulation\":0,\"precipitationIntensityMax\":0.0532,\"temperature\":24.98,\"windSpeed\":1.49,\"soilMoistureVolumetric0To10\":33.64}},{\"startTime\":\"2021-09-03T04:00:00-04:00\",\"values\":{\"rainAccumulation\":0,\"precipitationIntensityMax\":0.0549,\"temperature\":24.53,\"windSpeed\":1.42,\"soilMoistureVolumetric0To10\":33.75}},{\"startTime\":\"2021-09-03T05:00:00-04:00\",\"values\":{\"rainAccumulation\":0,\"precipitationIntensityMax\":0.0137,\"temperature\":24.62,\"windSpeed\":1.32,\"soilMoistureVolumetric0To10\":33.94}},{\"startTime\":\"2021-09-03T06:00:00-04:00\",\"values\":{\"rainAccumulation\":0,\"precipitationIntensityMax\":0.012,\"temperature\":23.91,\"windSpeed\":1.68,\"soilMoistureVolumetric0To10\":34.3}},{\"startTime\":\"2021-09-03T07:00:00-04:00\",\"values\":{\"rainAccumulation\":0,\"precipitationIntensityMax\":0.182,\"temperature\":23.78,\"windSpeed\":1.15,\"soilMoistureVolumetric0To10\":34.78}},{\"startTime\":\"2021-09-03T08:00:00-04:00\",\"values\":{\"rainAccumulation\":0,\"precipitationIntensityMax\":0.091,\"temperature\":23.38,\"windSpeed\":0.96,\"soilMoistureVolumetric0To10\":34.89}},{\"startTime\":\"2021-09-03T09:00:00-04:00\",\"values\":{\"rainAccumulation\":0,\"precipitationIntensityMax\":0.6489,\"temperature\":22.64,\"windSpeed\":0.79,\"soilMoistureVolumetric0To10\":35.51}},{\"startTime\":\"2021-09-03T10:00:00-04:00\",\"values\":{\"rainAccumulation\":0.79,\"precipitationIntensityMax\":0.5064,\"temperature\":21.73,\"windSpeed\":0.5,\"soilMoistureVolumetric0To10\":36}},{\"startTime\":\"2021-09-03T11:00:00-04:00\",\"values\":{\"rainAccumulation\":0.71,\"precipitationIntensityMax\":1.878,\"temperature\":20.57,\"windSpeed\":0.64,\"soilMoistureVolumetric0To10\":35.64}},{\"startTime\":\"2021-09-03T12:00:00-04:00\",\"values\":{\"rainAccumulation\":1.15,\"precipitationIntensityMax\":0.4738,\"temperature\":20.23,\"windSpeed\":0.58,\"soilMoistureVolumetric0To10\":35.36}},{\"startTime\":\"2021-09-03T13:00:00-04:00\",\"values\":{\"rainAccumulation\":0.34,\"precipitationIntensityMax\":0.2077,\"temperature\":20.18,\"windSpeed\":0.42,\"soilMoistureVolumetric0To10\":35.19}},{\"startTime\":\"2021-09-03T14:00:00-04:00\",\"values\":{\"rainAccumulation\":0,\"precipitationIntensityMax\":0.0172,\"temperature\":19.88,\"windSpeed\":0.4,\"soilMoistureVolumetric0To10\":34.99}},{\"startTime\":\"2021-09-03T15:00:00-04:00\",\"values\":{\"rainAccumulation\":0,\"precipitationIntensityMax\":0.0515,\"temperature\":18.94,\"windSpeed\":0.68,\"soilMoistureVolumetric0To10\":34.9}},{\"startTime\":\"2021-09-03T16:00:00-04:00\",\"values\":{\"rainAccumulation\":0,\"precipitationIntensityMax\":0.1442,\"temperature\":18.32,\"windSpeed\":0.31,\"soilMoistureVolumetric0To10\":34.74}},{\"startTime\":\"2021-09-03T17:00:00-04:00\",\"values\":{\"rainAccumulation\":0,\"precipitationIntensityMax\":0.1322,\"temperature\":18.04,\"windSpeed\":0.55,\"soilMoistureVolumetric0To10\":34.7}},{\"startTime\":\"2021-09-03T18:00:00-04:00\",\"values\":{\"rainAccumulation\":0,\"precipitationIntensityMax\":0.4189,\"temperature\":17.85,\"windSpeed\":0.47,\"soilMoistureVolumetric0To10\":34.62}},{\"startTime\":\"2021-09-03T19:00:00-04:00\",\"values\":{\"rainAccumulation\":0.64,\"precipitationIntensityMax\":0.4772,\"temperature\":17.8,\"windSpeed\":0.84,\"soilMoistureVolumetric0To10\":34.54}},{\"startTime\":\"2021-09-03T20:00:00-04:00\",\"values\":{\"rainAccumulation\":0,\"precipitationIntensityMax\":0.0858,\"temperature\":18.42,\"windSpeed\":0.69,\"soilMoistureVolumetric0To10\":34.5}},{\"startTime\":\"2021-09-03T21:00:00-04:00\",\"values\":{\"rainAccumulation\":0,\"precipitationIntensityMax\":0.1047,\"temperature\":18.65,\"windSpeed\":0.3,\"soilMoistureVolumetric0To10\":34.44}},{\"startTime\":\"2021-09-03T22:00:00-04:00\",\"values\":{\"rainAccumulation\":0,\"precipitationIntensityMax\":0.0343,\"temperature\":19.49,\"windSpeed\":0.61,\"soilMoistureVolumetric0To10\":34.34}},{\"startTime\":\"2021-09-03T23:00:00-04:00\",\"values\":{\"rainAccumulation\":0,\"precipitationIntensityMax\":0.036,\"temperature\":20.89,\"windSpeed\":0.74,\"soilMoistureVolumetric0To10\":34.3}},{\"startTime\":\"2021-09-04T00:00:00-04:00\",\"values\":{\"rainAccumulation\":0,\"precipitationIntensityMax\":0.0172,\"temperature\":22.47,\"windSpeed\":0.98,\"soilMoistureVolumetric0To10\":34.33}},{\"startTime\":\"2021-09-04T01:00:00-04:00\",\"values\":{\"rainAccumulation\":0,\"precipitationIntensityMax\":0.0566,\"temperature\":24.02,\"windSpeed\":1.18,\"soilMoistureVolumetric0To10\":34.54}},{\"startTime\":\"2021-09-04T02:00:00-04:00\",\"values\":{\"rainAccumulation\":0,\"precipitationIntensityMax\":0.0412,\"temperature\":25.03,\"windSpeed\":1.27,\"soilMoistureVolumetric0To10\":34.78}},{\"startTime\":\"2021-09-04T03:00:00-04:00\",\"values\":{\"rainAccumulation\":0,\"precipitationIntensityMax\":0.0601,\"temperature\":25.38,\"windSpeed\":1.66,\"soilMoistureVolumetric0To10\":34.62}},{\"startTime\":\"2021-09-04T04:00:00-04:00\",\"values\":{\"rainAccumulation\":0,\"precipitationIntensityMax\":0.012,\"temperature\":25.7,\"windSpeed\":1.57,\"soilMoistureVolumetric0To10\":34.68}},{\"startTime\":\"2021-09-04T05:00:00-04:00\",\"values\":{\"rainAccumulation\":0,\"precipitationIntensityMax\":0.0309,\"temperature\":25.34,\"windSpeed\":1.56,\"soilMoistureVolumetric0To10\":34.85}},{\"startTime\":\"2021-09-04T06:00:00-04:00\",\"values\":{\"rainAccumulation\":0,\"precipitationIntensityMax\":0.1253,\"temperature\":24.93,\"windSpeed\":1.24,\"soilMoistureVolumetric0To10\":35.1}},{\"startTime\":\"2021-09-04T07:00:00-04:00\",\"values\":{\"rainAccumulation\":0.26,\"precipitationIntensityMax\":0.0772,\"temperature\":24.39,\"windSpeed\":1.09,\"soilMoistureVolumetric0To10\":35.38}},{\"startTime\":\"2021-09-04T08:00:00-04:00\",\"values\":{\"rainAccumulation\":0,\"precipitationIntensityMax\":0.6386,\"temperature\":23.75,\"windSpeed\":0.86,\"soilMoistureVolumetric0To10\":35.64}},{\"startTime\":\"2021-09-04T09:00:00-04:00\",\"values\":{\"rainAccumulation\":0.82,\"precipitationIntensityMax\":0.3347,\"temperature\":22.7,\"windSpeed\":0.56,\"soilMoistureVolumetric0To10\":35.97}},{\"startTime\":\"2021-09-04T10:00:00-04:00\",\"values\":{\"rainAccumulation\":0.4,\"precipitationIntensityMax\":0.2644,\"temperature\":22.07,\"windSpeed\":0.63,\"soilMoistureVolumetric0To10\":35.91}},{\"startTime\":\"2021-09-04T11:00:00-04:00\",\"values\":{\"rainAccumulation\":0,\"precipitationIntensityMax\":0.0412,\"temperature\":21.43,\"windSpeed\":0.42,\"soilMoistureVolumetric0To10\":35.61}},{\"startTime\":\"2021-09-04T12:00:00-04:00\",\"values\":{\"rainAccumulation\":0,\"precipitationIntensityMax\":0,\"temperature\":21.03,\"windSpeed\":0.34,\"soilMoistureVolumetric0To10\":35.42}},{\"startTime\":\"2021-09-04T13:00:00-04:00\",\"values\":{\"rainAccumulation\":0,\"precipitationIntensityMax\":0,\"temperature\":20.38,\"windSpeed\":0.42,\"soilMoistureVolumetric0To10\":35.25}},{\"startTime\":\"2021-09-04T14:00:00-04:00\",\"values\":{\"rainAccumulation\":0,\"precipitationIntensityMax\":0,\"temperature\":19.65,\"windSpeed\":0.45,\"soilMoistureVolumetric0To10\":35.06}},{\"startTime\":\"2021-09-04T15:00:00-04:00\",\"values\":{\"rainAccumulation\":0,\"precipitationIntensityMax\":0,\"temperature\":19.37,\"windSpeed\":0.73,\"soilMoistureVolumetric0To10\":34.97}},{\"startTime\":\"2021-09-04T16:00:00-04:00\",\"values\":{\"rainAccumulation\":0,\"precipitationIntensityMax\":0.1871,\"temperature\":18.81,\"windSpeed\":0.32,\"soilMoistureVolumetric0To10\":34.88}},{\"startTime\":\"2021-09-04T17:00:00-04:00\",\"values\":{\"rainAccumulation\":0,\"precipitationIntensityMax\":0.1064,\"temperature\":18.52,\"windSpeed\":0.37,\"soilMoistureVolumetric0To10\":34.84}},{\"startTime\":\"2021-09-04T18:00:00-04:00\",\"values\":{\"rainAccumulation\":0,\"precipitationIntensityMax\":0.0515,\"temperature\":17.88,\"windSpeed\":0.48,\"soilMoistureVolumetric0To10\":34.78}},{\"startTime\":\"2021-09-04T19:00:00-04:00\",\"values\":{\"rainAccumulation\":0,\"precipitationIntensityMax\":0.0343,\"temperature\":18.27,\"windSpeed\":0.65,\"soilMoistureVolumetric0To10\":34.68}},{\"startTime\":\"2021-09-04T20:00:00-04:00\",\"values\":{\"rainAccumulation\":0,\"precipitationIntensityMax\":0.091,\"temperature\":18.67,\"windSpeed\":0.8,\"soilMoistureVolumetric0To10\":34.68}},{\"startTime\":\"2021-09-04T21:00:00-04:00\",\"values\":{\"rainAccumulation\":0,\"precipitationIntensityMax\":0.0309,\"temperature\":19.23,\"windSpeed\":0.54,\"soilMoistureVolumetric0To10\":34.58}},{\"startTime\":\"2021-09-04T22:00:00-04:00\",\"values\":{\"rainAccumulation\":0,\"precipitationIntensityMax\":0,\"temperature\":19.88,\"windSpeed\":0.25,\"soilMoistureVolumetric0To10\":34.51}},{\"startTime\":\"2021-09-04T23:00:00-04:00\",\"values\":{\"rainAccumulation\":0,\"precipitationIntensityMax\":0,\"temperature\":21.31,\"windSpeed\":0.44,\"soilMoistureVolumetric0To10\":34.41}},{\"startTime\":\"2021-09-05T00:00:00-04:00\",\"values\":{\"rainAccumulation\":0,\"precipitationIntensityMax\":0,\"temperature\":23.06,\"windSpeed\":0.95,\"soilMoistureVolumetric0To10\":34.3}},{\"startTime\":\"2021-09-05T01:00:00-04:00\",\"values\":{\"rainAccumulation\":0,\"precipitationIntensityMax\":0.0584,\"temperature\":24.9,\"windSpeed\":1.08,\"soilMoistureVolumetric0To10\":34.21}},{\"startTime\":\"2021-09-05T02:00:00-04:00\",\"values\":{\"rainAccumulation\":0,\"precipitationIntensityMax\":0.0481,\"temperature\":26.12,\"windSpeed\":1.31,\"soilMoistureVolumetric0To10\":34.09}},{\"startTime\":\"2021-09-05T03:00:00-04:00\",\"values\":{\"rainAccumulation\":0,\"precipitationIntensityMax\":0.1528,\"temperature\":26.4,\"windSpeed\":1.73,\"soilMoistureVolumetric0To10\":34.15}},{\"startTime\":\"2021-09-05T04:00:00-04:00\",\"values\":{\"rainAccumulation\":0,\"precipitationIntensityMax\":0.0996,\"temperature\":25.93,\"windSpeed\":2,\"soilMoistureVolumetric0To10\":34.48}},{\"startTime\":\"2021-09-05T05:00:00-04:00\",\"values\":{\"rainAccumulation\":0,\"precipitationIntensityMax\":0.0446,\"temperature\":25.66,\"windSpeed\":1.53,\"soilMoistureVolumetric0To10\":34.92}},{\"startTime\":\"2021-09-05T06:00:00-04:00\",\"values\":{\"rainAccumulation\":0,\"precipitationIntensityMax\":0.1614,\"temperature\":25.47,\"windSpeed\":1.52,\"soilMoistureVolumetric0To10\":34.85}},{\"startTime\":\"2021-09-05T07:00:00-04:00\",\"values\":{\"rainAccumulation\":0.27,\"precipitationIntensityMax\":0.23,\"temperature\":25.21,\"windSpeed\":1.46,\"soilMoistureVolumetric0To10\":34.69}},{\"startTime\":\"2021-09-05T08:00:00-04:00\",\"values\":{\"rainAccumulation\":0.32,\"precipitationIntensityMax\":0.7433,\"temperature\":24.44,\"windSpeed\":1.1,\"soilMoistureVolumetric0To10\":34.79}},{\"startTime\":\"2021-09-05T09:00:00-04:00\",\"values\":{\"rainAccumulation\":0.58,\"precipitationIntensityMax\":0.3262,\"temperature\":23.11,\"windSpeed\":0.67,\"soilMoistureVolumetric0To10\":34.71}},{\"startTime\":\"2021-09-05T10:00:00-04:00\",\"values\":{\"rainAccumulation\":0.53,\"precipitationIntensityMax\":0.7622,\"temperature\":22.52,\"windSpeed\":0.33,\"soilMoistureVolumetric0To10\":34.79}},{\"startTime\":\"2021-09-05T11:00:00-04:00\",\"values\":{\"rainAccumulation\":0.76,\"precipitationIntensityMax\":0.7107,\"temperature\":22.53,\"windSpeed\":0.37,\"soilMoistureVolumetric0To10\":34.68}},{\"startTime\":\"2021-09-05T12:00:00-04:00\",\"values\":{\"rainAccumulation\":0.29,\"precipitationIntensityMax\":0.2266,\"temperature\":22.45,\"windSpeed\":0.23,\"soilMoistureVolumetric0To10\":34.64}},{\"startTime\":\"2021-09-05T13:00:00-04:00\",\"values\":{\"rainAccumulation\":0.29,\"precipitationIntensityMax\":0.9613,\"temperature\":22.2,\"windSpeed\":0.36,\"soilMoistureVolumetric0To10\":34.55}},{\"startTime\":\"2021-09-05T14:00:00-04:00\",\"values\":{\"rainAccumulation\":1.01,\"precipitationIntensityMax\":1.0489,\"temperature\":21.39,\"windSpeed\":0.38,\"soilMoistureVolumetric0To10\":34.53}},{\"startTime\":\"2021-09-05T15:00:00-04:00\",\"values\":{\"rainAccumulation\":0.76,\"precipitationIntensityMax\":0.1734,\"temperature\":20.13,\"windSpeed\":0.85,\"soilMoistureVolumetric0To10\":34.52}},{\"startTime\":\"2021-09-05T16:00:00-04:00\",\"values\":{\"rainAccumulation\":0,\"precipitationIntensityMax\":0.5339,\"temperature\":19.34,\"windSpeed\":0.77,\"soilMoistureVolumetric0To10\":34.4}},{\"startTime\":\"2021-09-05T17:00:00-04:00\",\"values\":{\"rainAccumulation\":0,\"precipitationIntensityMax\":0.0822,\"temperature\":18.67,\"windSpeed\":0.69,\"soilMoistureVolumetric0To10\":34.43}},{\"startTime\":\"2021-09-05T18:00:00-04:00\",\"values\":{\"rainAccumulation\":0,\"precipitationIntensityMax\":0.3563,\"temperature\":18.37,\"windSpeed\":0.8,\"soilMoistureVolumetric0To10\":35.27}},{\"startTime\":\"2021-09-05T19:00:00-04:00\",\"values\":{\"rainAccumulation\":0,\"precipitationIntensityMax\":0.3514,\"temperature\":18.15,\"windSpeed\":0.67,\"soilMoistureVolumetric0To10\":36.21}},{\"startTime\":\"2021-09-05T20:00:00-04:00\",\"values\":{\"rainAccumulation\":0,\"precipitationIntensityMax\":0.3297,\"temperature\":17.73,\"windSpeed\":0.72,\"soilMoistureVolumetric0To10\":36.26}},{\"startTime\":\"2021-09-05T21:00:00-04:00\",\"values\":{\"rainAccumulation\":0,\"precipitationIntensityMax\":0.1667,\"temperature\":18.14,\"windSpeed\":0.62,\"soilMoistureVolumetric0To10\":35.92}},{\"startTime\":\"2021-09-05T22:00:00-04:00\",\"values\":{\"rainAccumulation\":0,\"precipitationIntensityMax\":0.0866,\"temperature\":19.18,\"windSpeed\":0.44,\"soilMoistureVolumetric0To10\":35.63}},{\"startTime\":\"2021-09-05T23:00:00-04:00\",\"values\":{\"rainAccumulation\":0,\"precipitationIntensityMax\":0.0949,\"temperature\":20.43,\"windSpeed\":0.97,\"soilMoistureVolumetric0To10\":35.38}},{\"startTime\":\"2021-09-06T00:00:00-04:00\",\"values\":{\"rainAccumulation\":0,\"precipitationIntensityMax\":0.2399,\"temperature\":21.63,\"windSpeed\":1.28,\"soilMoistureVolumetric0To10\":35.42}},{\"startTime\":\"2021-09-06T01:00:00-04:00\",\"values\":{\"rainAccumulation\":0,\"precipitationIntensityMax\":0.3417,\"temperature\":23.02,\"windSpeed\":1.62,\"soilMoistureVolumetric0To10\":35.44}},{\"startTime\":\"2021-09-06T02:00:00-04:00\",\"values\":{\"rainAccumulation\":0,\"precipitationIntensityMax\":0.6003,\"temperature\":24.02,\"windSpeed\":1.75,\"soilMoistureVolumetric0To10\":35.49}},{\"startTime\":\"2021-09-06T03:00:00-04:00\",\"values\":{\"rainAccumulation\":0,\"precipitationIntensityMax\":1.5049,\"temperature\":24.01,\"windSpeed\":1.64,\"soilMoistureVolumetric0To10\":35.63}},{\"startTime\":\"2021-09-06T04:00:00-04:00\",\"values\":{\"rainAccumulation\":2.19,\"precipitationIntensityMax\":1.8422,\"temperature\":23.27,\"windSpeed\":1.9,\"soilMoistureVolumetric0To10\":36.23}},{\"startTime\":\"2021-09-06T05:00:00-04:00\",\"values\":{\"rainAccumulation\":1.87,\"precipitationIntensityMax\":1.8579,\"temperature\":22.85,\"windSpeed\":1.93,\"soilMoistureVolumetric0To10\":36.48}},{\"startTime\":\"2021-09-06T06:00:00-04:00\",\"values\":{\"rainAccumulation\":2.37,\"precipitationIntensityMax\":1.9773,\"temperature\":21.83,\"windSpeed\":1.6,\"soilMoistureVolumetric0To10\":37.16}},{\"startTime\":\"2021-09-06T07:00:00-04:00\",\"values\":{\"rainAccumulation\":2.69,\"precipitationIntensityMax\":2.1228,\"temperature\":21.07,\"windSpeed\":1,\"soilMoistureVolumetric0To10\":38.47}},{\"startTime\":\"2021-09-06T08:00:00-04:00\",\"values\":{\"rainAccumulation\":2.1,\"precipitationIntensityMax\":2.1161,\"temperature\":20.42,\"windSpeed\":0.42,\"soilMoistureVolumetric0To10\":38.95}},{\"startTime\":\"2021-09-06T09:00:00-04:00\",\"values\":{\"rainAccumulation\":0,\"precipitationIntensityMax\":1.824,\"temperature\":19.07,\"windSpeed\":1.01,\"soilMoistureVolumetric0To10\":37.45}},{\"startTime\":\"2021-09-06T10:00:00-04:00\",\"values\":{\"rainAccumulation\":0,\"precipitationIntensityMax\":1.1433,\"temperature\":18.56,\"windSpeed\":0.98,\"soilMoistureVolumetric0To10\":37.42}},{\"startTime\":\"2021-09-06T11:00:00-04:00\",\"values\":{\"rainAccumulation\":0,\"precipitationIntensityMax\":0.9313,\"temperature\":18.11,\"windSpeed\":1.2,\"soilMoistureVolumetric0To10\":37.39}},{\"startTime\":\"2021-09-06T12:00:00-04:00\",\"values\":{\"rainAccumulation\":1.69,\"precipitationIntensityMax\":1.1208,\"temperature\":17.88,\"windSpeed\":1.15,\"soilMoistureVolumetric0To10\":38.18}},{\"startTime\":\"2021-09-06T13:00:00-04:00\",\"values\":{\"rainAccumulation\":1.99,\"precipitationIntensityMax\":1.2919,\"temperature\":17.66,\"windSpeed\":1.1,\"soilMoistureVolumetric0To10\":38.79}},{\"startTime\":\"2021-09-06T14:00:00-04:00\",\"values\":{\"rainAccumulation\":2.12,\"precipitationIntensityMax\":1.4324,\"temperature\":17.61,\"windSpeed\":1.21,\"soilMoistureVolumetric0To10\":39.24}},{\"startTime\":\"2021-09-06T15:00:00-04:00\",\"values\":{\"rainAccumulation\":0,\"precipitationIntensityMax\":1.9893,\"temperature\":17.58,\"windSpeed\":1.06,\"soilMoistureVolumetric0To10\":39.24}},{\"startTime\":\"2021-09-06T16:00:00-04:00\",\"values\":{\"rainAccumulation\":1.82,\"precipitationIntensityMax\":1.9189,\"temperature\":17.5,\"windSpeed\":0.87,\"soilMoistureVolumetric0To10\":39.01}},{\"startTime\":\"2021-09-06T17:00:00-04:00\",\"values\":{\"rainAccumulation\":1.64,\"precipitationIntensityMax\":1.8224,\"temperature\":17.54,\"windSpeed\":0.68,\"soilMoistureVolumetric0To10\":38.75}},{\"startTime\":\"2021-09-06T18:00:00-04:00\",\"values\":{\"rainAccumulation\":1.5,\"precipitationIntensityMax\":1.7137,\"temperature\":17.5,\"windSpeed\":0.47,\"soilMoistureVolumetric0To10\":38.48}},{\"startTime\":\"2021-09-06T19:00:00-04:00\",\"values\":{\"rainAccumulation\":0.95,\"precipitationIntensityMax\":1.5511,\"temperature\":17.51,\"windSpeed\":0.38,\"soilMoistureVolumetric0To10\":38.16}},{\"startTime\":\"2021-09-06T20:00:00-04:00\",\"values\":{\"rainAccumulation\":0.84,\"precipitationIntensityMax\":1.4319,\"temperature\":17.43,\"windSpeed\":0.8,\"soilMoistureVolumetric0To10\":38.14}},{\"startTime\":\"2021-09-06T21:00:00-04:00\",\"values\":{\"rainAccumulation\":0,\"precipitationIntensityMax\":1.3094,\"temperature\":17.41,\"windSpeed\":0.94,\"soilMoistureVolumetric0To10\":38.62}},{\"startTime\":\"2021-09-06T22:00:00-04:00\",\"values\":{\"rainAccumulation\":1.32,\"precipitationIntensityMax\":1.3276,\"temperature\":17.71,\"windSpeed\":1.05,\"soilMoistureVolumetric0To10\":38.61}},{\"startTime\":\"2021-09-06T23:00:00-04:00\",\"values\":{\"rainAccumulation\":1.46,\"precipitationIntensityMax\":1.3709,\"temperature\":18.17,\"windSpeed\":1.28,\"soilMoistureVolumetric0To10\":38.63}},{\"startTime\":\"2021-09-07T00:00:00-04:00\",\"values\":{\"rainAccumulation\":1.92,\"precipitationIntensityMax\":1.5082,\"temperature\":18.59,\"windSpeed\":1.43,\"soilMoistureVolumetric0To10\":38.88}},{\"startTime\":\"2021-09-07T01:00:00-04:00\",\"values\":{\"rainAccumulation\":2.68,\"precipitationIntensityMax\":1.7358,\"temperature\":18.78,\"windSpeed\":1.54,\"soilMoistureVolumetric0To10\":39.14}},{\"startTime\":\"2021-09-07T02:00:00-04:00\",\"values\":{\"rainAccumulation\":2.76,\"precipitationIntensityMax\":1.9121,\"temperature\":18.92,\"windSpeed\":1.86,\"soilMoistureVolumetric0To10\":39.12}},{\"startTime\":\"2021-09-07T03:00:00-04:00\",\"values\":{\"rainAccumulation\":0,\"precipitationIntensityMax\":2.0444,\"temperature\":19.44,\"windSpeed\":1.89,\"soilMoistureVolumetric0To10\":38.99}},{\"startTime\":\"2021-09-07T04:00:00-04:00\",\"values\":{\"rainAccumulation\":0,\"precipitationIntensityMax\":1.4939,\"temperature\":19.6,\"windSpeed\":1.54,\"soilMoistureVolumetric0To10\":38.79}},{\"startTime\":\"2021-09-07T05:00:00-04:00\",\"values\":{\"rainAccumulation\":0.84,\"precipitationIntensityMax\":1.2642,\"temperature\":19.7,\"windSpeed\":1.33,\"soilMoistureVolumetric0To10\":38.78}},{\"startTime\":\"2021-09-07T06:00:00-04:00\",\"values\":{\"rainAccumulation\":0.78,\"precipitationIntensityMax\":1.1475,\"temperature\":19.49,\"windSpeed\":0.96,\"soilMoistureVolumetric0To10\":38.93}},{\"startTime\":\"2021-09-07T07:00:00-04:00\",\"values\":{\"rainAccumulation\":0,\"precipitationIntensityMax\":1.0511,\"temperature\":19.01,\"windSpeed\":0.77,\"soilMoistureVolumetric0To10\":38.94}},{\"startTime\":\"2021-09-07T08:00:00-04:00\",\"values\":{\"rainAccumulation\":0,\"precipitationIntensityMax\":0.9334,\"temperature\":18.46,\"windSpeed\":0.58,\"soilMoistureVolumetric0To10\":38.66}}]}]}}'"
      ]
     },
     "execution_count": 4,
     "metadata": {},
     "output_type": "execute_result"
    }
   ],
   "source": [
    "data_line.text"
   ]
  },
  {
   "cell_type": "markdown",
   "metadata": {},
   "source": [
    "Tomorrow.io returns the data in a json-format, which needs some formatting to be readable in pandas (for further analysis):"
   ]
  },
  {
   "cell_type": "code",
   "execution_count": 29,
   "metadata": {},
   "outputs": [],
   "source": [
    "def format_response(response):\n",
    "    #text = json.loads(response.text)\n",
    "    timelines = response['data']['timelines']\n",
    "    nest = timelines[0]['intervals'] #list - each element is a dictionary with startTime and values\n",
    "    startTimes = pd.DataFrame(nest)['startTime']\n",
    "\n",
    "    val = nest[0]['values'] #first time-stamp value\n",
    "    values = pd.DataFrame(val, index=[0])\n",
    "\n",
    "    #iterate through all time-stamps\n",
    "    for i in range(1, len(startTimes)):\n",
    "        val = nest[i]['values']\n",
    "        df = pd.DataFrame(val, index=[i])\n",
    "        values = pd.concat([values, df], axis=0)\n",
    "\n",
    "    data = pd.concat([startTimes, values], axis=1)\n",
    "    return data"
   ]
  },
  {
   "cell_type": "code",
   "execution_count": null,
   "metadata": {},
   "outputs": [],
   "source": [
    "json.loads(data_line.text)"
   ]
  },
  {
   "cell_type": "code",
   "execution_count": null,
   "metadata": {},
   "outputs": [],
   "source": []
  }
 ],
 "metadata": {
  "kernelspec": {
   "display_name": "Python 3",
   "language": "python",
   "name": "python3"
  },
  "language_info": {
   "codemirror_mode": {
    "name": "ipython",
    "version": 3
   },
   "file_extension": ".py",
   "mimetype": "text/x-python",
   "name": "python",
   "nbconvert_exporter": "python",
   "pygments_lexer": "ipython3",
   "version": "3.8.5"
  }
 },
 "nbformat": 4,
 "nbformat_minor": 4
}
