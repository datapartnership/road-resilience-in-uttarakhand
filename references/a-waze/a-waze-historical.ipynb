{
 "cells": [
  {
   "cell_type": "code",
   "execution_count": 2,
   "metadata": {},
   "outputs": [],
   "source": [
    "import pandas as pd\n",
    "import geopandas \n",
    "import matplotlib.pyplot as plt\n",
    "import shapely.wkt\n",
    "import osmnx as ox"
   ]
  },
  {
   "cell_type": "markdown",
   "metadata": {},
   "source": [
    "### 02-waze-historical\n",
    "\n",
    " - read waze csvs\n",
    "\n",
    "#### 1 Read Waze data\n",
    "\n",
    " - Waze csv stores `geo` column as strings instead of points, so need to use shapely to convert to shapely points [code from this thread](https://stackoverflow.com/questions/51855917/shapely-polygon-from-string)\n",
    " - Turn pandas dataframe into a GeoDataFrame"
   ]
  },
  {
   "cell_type": "code",
   "execution_count": 3,
   "metadata": {},
   "outputs": [],
   "source": [
    "data = pd.read_csv('alerts_000000000000.csv')\n",
    "geometry = data['geo'].map(lambda geo: shapely.wkt.loads(geo))\n",
    "gdf = geopandas.GeoDataFrame(data, geometry=geometry)"
   ]
  },
  {
   "cell_type": "markdown",
   "metadata": {},
   "source": [
    "#### 2 Filter data\n",
    " - Filter data for `'WEATHERHAZARD'` to ignore other road closures for different reasons. Assume that all weather hazards led to a road closure/road impassability"
   ]
  },
  {
   "cell_type": "code",
   "execution_count": 12,
   "metadata": {},
   "outputs": [
    {
     "data": {
      "text/plain": [
       "38"
      ]
     },
     "execution_count": 12,
     "metadata": {},
     "output_type": "execute_result"
    }
   ],
   "source": [
    "closures = gdf.loc[(data['type'] == 'WEATHERHAZARD')]\n",
    "closures.head(10)\n",
    "len(closures)"
   ]
  },
  {
   "cell_type": "markdown",
   "metadata": {},
   "source": [
    " - Alternatively, could filter for `subtype='ROAD_CLOSED_HAZARD'` and `subtype='WEATHERHAZARD'`"
   ]
  },
  {
   "cell_type": "code",
   "execution_count": 10,
   "metadata": {},
   "outputs": [
    {
     "data": {
      "text/html": [
       "<div>\n",
       "<style scoped>\n",
       "    .dataframe tbody tr th:only-of-type {\n",
       "        vertical-align: middle;\n",
       "    }\n",
       "\n",
       "    .dataframe tbody tr th {\n",
       "        vertical-align: top;\n",
       "    }\n",
       "\n",
       "    .dataframe thead th {\n",
       "        text-align: right;\n",
       "    }\n",
       "</style>\n",
       "<table border=\"1\" class=\"dataframe\">\n",
       "  <thead>\n",
       "    <tr style=\"text-align: right;\">\n",
       "      <th></th>\n",
       "      <th>city</th>\n",
       "      <th>confidence</th>\n",
       "      <th>nThumbsUp</th>\n",
       "      <th>street</th>\n",
       "      <th>uuid</th>\n",
       "      <th>country</th>\n",
       "      <th>type</th>\n",
       "      <th>subtype</th>\n",
       "      <th>roadType</th>\n",
       "      <th>reliability</th>\n",
       "      <th>magvar</th>\n",
       "      <th>reportRating</th>\n",
       "      <th>ts</th>\n",
       "      <th>geo</th>\n",
       "      <th>geoWKT</th>\n",
       "      <th>geometry</th>\n",
       "    </tr>\n",
       "  </thead>\n",
       "  <tbody>\n",
       "  </tbody>\n",
       "</table>\n",
       "</div>"
      ],
      "text/plain": [
       "Empty GeoDataFrame\n",
       "Columns: [city, confidence, nThumbsUp, street, uuid, country, type, subtype, roadType, reliability, magvar, reportRating, ts, geo, geoWKT, geometry]\n",
       "Index: []"
      ]
     },
     "execution_count": 10,
     "metadata": {},
     "output_type": "execute_result"
    }
   ],
   "source": [
    "gdf.loc[(data['subtype'] == 'ROAD_CLOSED_HAZARD')]"
   ]
  },
  {
   "cell_type": "markdown",
   "metadata": {},
   "source": [
    " - Save geopandas as a shapefile, to put in QGIS"
   ]
  },
  {
   "cell_type": "code",
   "execution_count": 5,
   "metadata": {},
   "outputs": [],
   "source": [
    "closures.to_file(\"weatherclosures.shp\")"
   ]
  },
  {
   "cell_type": "markdown",
   "metadata": {},
   "source": [
    "#### Plotting (optional)\n",
    "\n",
    " - Plot all alert data on India basemap to visualize, with help from [this article](https://towardsdatascience.com/the-easiest-way-to-plot-data-from-pandas-on-a-world-map-1a62962a27f3)."
   ]
  },
  {
   "cell_type": "code",
   "execution_count": null,
   "metadata": {},
   "outputs": [],
   "source": [
    "place_name = 'Uttarakhand, India'\n",
    "place = ox.geocode_to_gdf(place_name)\n",
    "place_roi = place.iloc[0,0]\n",
    "ax1 = place.plot(color='lightgrey')\n",
    "\n",
    "fig, ax = plt.subplots(figsize=(8,6))\n",
    "world = geopandas.read_file(geopandas.datasets.get_path('naturalearth_lowres'))\n",
    "world[world[\"name\"] == \"Uttarakhand\"].plot(color='lightgrey', ax=ax)\n",
    "gdf.plot(ax=ax1, color='red')\n"
   ]
  },
  {
   "cell_type": "code",
   "execution_count": null,
   "metadata": {},
   "outputs": [],
   "source": [
    "df = closures\n",
    "# add new column to df\n",
    "df['withinQ'] = \"\"\n",
    "\n",
    "withinQlist = []\n",
    "for lon,lat in zip(df.Longitude, df.Latitude):\n",
    "    pt = Point(lon, lat)\n",
    "    withinQ = pt.within(place['geometry'].values[0])\n",
    "    #print( withinQ )\n",
    "    withinQlist.append(withinQ)\n",
    "\n",
    "# update values in the that column, values: True/False\n",
    "df['withinQ'] = withinQlist\n",
    "\n",
    "# select points within ecuador, assign to `result_df` dataframe\n",
    "result_df = df[df.withinQ==True]\n",
    "# select points outside ecuador, assign to `xresult_df` dataframe\n",
    "xresult_df = df[df.withinQ==False]\n",
    "\n",
    "# for checking/visualization, create a plot of relevant geometries\n",
    "ax1 = place.plot(color='pink')\n",
    "ax1.scatter(result_df.Longitude, result_df.Latitude, s=50, color='green')\n",
    "#ax1.scatter(xresult_df.Longitude, xresult_df.Latitude, s=30, color='red')"
   ]
  },
  {
   "cell_type": "markdown",
   "metadata": {},
   "source": [
    " - Plot just weather closures, without India basemap"
   ]
  },
  {
   "cell_type": "code",
   "execution_count": 7,
   "metadata": {},
   "outputs": [
    {
     "data": {
      "text/plain": [
       "<AxesSubplot:>"
      ]
     },
     "execution_count": 7,
     "metadata": {},
     "output_type": "execute_result"
    },
    {
     "data": {
      "image/png": "[encoded data removed]",
      "text/plain": [
       "<Figure size 432x288 with 1 Axes>"
      ]
     },
     "metadata": {
      "needs_background": "light"
     },
     "output_type": "display_data"
    }
   ],
   "source": [
    "closures.plot(color='red')"
   ]
  },
  {
   "cell_type": "code",
   "execution_count": null,
   "metadata": {},
   "outputs": [],
   "source": []
  }
 ],
 "metadata": {
  "kernelspec": {
   "display_name": "Python 3",
   "language": "python",
   "name": "python3"
  },
  "language_info": {
   "codemirror_mode": {
    "name": "ipython",
    "version": 3
   },
   "file_extension": ".py",
   "mimetype": "text/x-python",
   "name": "python",
   "nbconvert_exporter": "python",
   "pygments_lexer": "ipython3",
   "version": "3.8.5"
  }
 },
 "nbformat": 4,
 "nbformat_minor": 4
}
