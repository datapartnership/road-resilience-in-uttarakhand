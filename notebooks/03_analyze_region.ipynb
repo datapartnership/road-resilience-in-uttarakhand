{
 "cells": [
  {
   "cell_type": "code",
   "execution_count": null,
   "metadata": {},
   "outputs": [],
   "source": [
    "import sys\n",
    "import os \n",
    "\n",
    "import functions\n",
    "from functions import *\n",
    "\n",
    "# This is a Jupyter Notebook extension which reloads all of the modules whenever you run the code\n",
    "# This is optional but good if you are modifying and testing source code\n",
    "%load_ext autoreload\n",
    "%autoreload 2\n",
    "\n",
    "pd.set_option('display.max_colwidth', None)\n",
    "pd.set_option('display.max_columns', None)\n",
    "pd.set_option('display.max_rows', None)"
   ]
  },
  {
   "cell_type": "code",
   "execution_count": null,
   "metadata": {},
   "outputs": [],
   "source": [
    "bounds = unpickle_data(\"../data/interim/bounds.pickle\")\n",
    "myorigins = get_origins(\n",
    "    places = bounds,\n",
    "    population_file = \"../data/interim/pop_phl_national_capital_region.tif\",\n",
    "    window_size = 50,\n",
    "    use_pickle = False,\n",
    "    do_pickle_result = True\n",
    ")\n",
    "\n"
   ]
  },
  {
   "cell_type": "code",
   "execution_count": null,
   "metadata": {},
   "outputs": [],
   "source": [
    "# Optional - Snap Origins to Roads\n",
    "#myorigins = origins_snap_osm(myorigins, \"./data/networks/ncr_unclean_1.pickle\")"
   ]
  },
  {
   "cell_type": "code",
   "execution_count": null,
   "metadata": {},
   "outputs": [],
   "source": [
    "myorigins.head()"
   ]
  },
  {
   "cell_type": "code",
   "execution_count": null,
   "metadata": {},
   "outputs": [],
   "source": [
    "# IF Snapped:\n",
    "#visual= plot_df_single(myorigins, 'geometry', color = 'blue', alpha = 0.8, hover_cols=['tot_pop']) \\\n",
    "#* plot_df_single(myorigins, 'center_geom', color='red', alpha = 0.4, hover_cols=['tot_pop']) \\\n",
    "#* plot_df_single(myorigins, 'geo_grid', color = 'cyan', alpha = 0.2, hover_cols=['tot_pop'])\n",
    "\n",
    "# IF Not Snapped\n",
    "visual= plot_df_single(myorigins, 'geometry', color = 'blue', alpha = 0.8, hover_cols=['tot_pop']) \\\n",
    "* plot_df_single(myorigins, 'geo_grid', color = 'cyan', alpha = 0.2, hover_cols=['tot_pop'])\n",
    "\n",
    "\n",
    "visual"
   ]
  },
  {
   "cell_type": "code",
   "execution_count": null,
   "metadata": {},
   "outputs": [],
   "source": [
    "#Get Destinations\n",
    "mydest = get_destinations(\n",
    "    places = [\"NCR,Philippines\"],\n",
    "    tags = {'amenity':['hospital','clinic']}\n",
    ")\n",
    "mydest.head(60)"
   ]
  },
  {
   "cell_type": "code",
   "execution_count": null,
   "metadata": {},
   "outputs": [],
   "source": [
    "plot_df_single(mydest, color='blue', hover_cols = ['amenity']) "
   ]
  },
  {
   "cell_type": "code",
   "execution_count": null,
   "metadata": {},
   "outputs": [],
   "source": [
    "origins_walking = get_travel_times_mapbox(origins = myorigins,\n",
    "                                  destinations = mydest,\n",
    "                                  mode = 'walking',\n",
    "                                  d_name = 'hosp_or_clinic',\n",
    "                                  dest_id_col = \"osmid\",\n",
    "                                  n_keep = 2,\n",
    "                                  num_retries = 2,\n",
    "                                  starting_token_index = 0,\n",
    "                                  use_pickle=False,\n",
    "                                  do_pickle_result=True)\n",
    "\n",
    "origins_walking = origins_walking.loc[origins_walking['mins_to_hosp_or_clinic'] > -1, :]"
   ]
  },
  {
   "cell_type": "code",
   "execution_count": null,
   "metadata": {},
   "outputs": [],
   "source": [
    "origins_driving = get_travel_times_mapbox(origins = myorigins,\n",
    "                                  destinations = mydest,\n",
    "                                  mode = 'driving',\n",
    "                                  d_name = 'hosp_or_clinic',\n",
    "                                  dest_id_col = \"osmid\",\n",
    "                                  n_keep = 2,\n",
    "                                  num_retries = 2,\n",
    "                                  starting_token_index = 0,\n",
    "                                  use_pickle=False,\n",
    "                                  do_pickle_result=True)\n",
    "\n",
    "origins_driving = origins_driving.loc[origins_driving['mins_to_hosp_or_clinic'] > -1, :]"
   ]
  },
  {
   "cell_type": "code",
   "execution_count": null,
   "metadata": {},
   "outputs": [],
   "source": [
    "#This is acting up driving-traffic causing a 422 error\n",
    "origins_traffic = get_travel_times_mapbox(origins = myorigins,\n",
    "                                  destinations = mydest,\n",
    "                                  mode = 'driving-traffic',\n",
    "                                  d_name = 'hosp_or_clinic',\n",
    "                                  dest_id_col = \"osmid\",\n",
    "                                  n_keep = 2,\n",
    "                                  num_retries = 2,\n",
    "                                  starting_token_index = 0,\n",
    "                                  use_pickle=False,\n",
    "                                  do_pickle_result=True)\n",
    "\n",
    "origins_traffic = origins_traffic.loc[origins_traffic['mins_to_hosp_or_clinic'] > -1, :]"
   ]
  },
  {
   "cell_type": "code",
   "execution_count": null,
   "metadata": {},
   "outputs": [],
   "source": [
    "origins_cycling = get_travel_times_mapbox(origins = myorigins,\n",
    "                                  destinations = mydest,\n",
    "                                  mode = 'cycling',\n",
    "                                  d_name = 'hosp_or_clinic',\n",
    "                                  dest_id_col = \"osmid\",\n",
    "                                  n_keep = 2,\n",
    "                                  num_retries = 2,\n",
    "                                  starting_token_index = 0,\n",
    "                                  use_pickle=False,\n",
    "                                  do_pickle_result=True)\n",
    "\n",
    "origins_cycling = origins_cycling.loc[origins_cycling['mins_to_hosp_or_clinic'] > -1, :]"
   ]
  },
  {
   "cell_type": "code",
   "execution_count": null,
   "metadata": {},
   "outputs": [],
   "source": [
    "hrs_to_hosp_or_clinic_walking=mapbox_analysis(\"walking\",origins_walking, mydest)\n",
    "hrs_to_hosp_or_clinic_driving=mapbox_analysis(\"driving\",origins_driving, mydest)\n",
    "hrs_to_hosp_or_clinic_traffic=mapbox_analysis(\"driving-traffic\",origins_traffic, mydest)\n",
    "hrs_to_hosp_or_clinic_cycling=mapbox_analysis(\"cycling\",origins_driving, mydest)"
   ]
  },
  {
   "cell_type": "code",
   "execution_count": null,
   "metadata": {},
   "outputs": [],
   "source": [
    "plot_access(origins_walking,mydest,tmax=1)"
   ]
  },
  {
   "cell_type": "code",
   "execution_count": null,
   "metadata": {},
   "outputs": [],
   "source": [
    "plot_access(origins_driving,mydest,tmax=1)"
   ]
  },
  {
   "cell_type": "code",
   "execution_count": null,
   "metadata": {},
   "outputs": [],
   "source": [
    "plot_access(origins_traffic,mydest,tmax=1)"
   ]
  },
  {
   "cell_type": "code",
   "execution_count": null,
   "metadata": {},
   "outputs": [],
   "source": [
    "plot_access(origins_cycling,mydest,tmax=1)"
   ]
  },
  {
   "cell_type": "code",
   "execution_count": null,
   "metadata": {},
   "outputs": [],
   "source": [
    "biplot(origins=origins_driving,destinations=mydest,t_max=1, mode=\"driving\", xlim=(0,3))\n",
    "biplot(origins=origins_traffic,destinations=mydest,t_max=1, mode=\"traffic\", xlim=(0,3))\n",
    "biplot(origins=origins_walking,destinations=mydest,t_max=1, mode=\"walking\", xlim=(0,3))\n",
    "biplot(origins=origins_cycling,destinations=mydest,t_max=1, mode=\"cycling\", xlim=(0,3))"
   ]
  }
 ],
 "metadata": {
  "kernelspec": {
   "display_name": "Python 3",
   "language": "python",
   "name": "python3"
  },
  "language_info": {
   "codemirror_mode": {
    "name": "ipython",
    "version": 3
   },
   "file_extension": ".py",
   "mimetype": "text/x-python",
   "name": "python",
   "nbconvert_exporter": "python",
   "pygments_lexer": "ipython3",
   "version": "3.8.4"
  }
 },
 "nbformat": 4,
 "nbformat_minor": 4
}
