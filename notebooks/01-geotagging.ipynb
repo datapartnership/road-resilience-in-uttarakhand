{
 "cells": [
  {
   "cell_type": "markdown",
   "metadata": {},
   "source": [
    "#### 01-geotagging\n",
    "\n",
    " - This notebooks creates gpkgs for each day with all of its road closures\n",
    " - Step 19 of methodology"
   ]
  },
  {
   "cell_type": "code",
   "execution_count": 2,
   "metadata": {},
   "outputs": [],
   "source": [
    "import pandas as pd\n",
    "import geopandas as gpd\n",
    "import os\n",
    "import numpy as np"
   ]
  },
  {
   "cell_type": "markdown",
   "metadata": {},
   "source": [
    "#### functions"
   ]
  },
  {
   "cell_type": "code",
   "execution_count": 3,
   "metadata": {},
   "outputs": [],
   "source": [
    "def update_km(closures):\n",
    "    for index, row in closures.iterrows():\n",
    "        #update the comma-separated km markings to be a list\n",
    "        km = row['KM']\n",
    "        if isinstance(km, str):\n",
    "            km = km.split(',')\n",
    "        col = closures.columns.get_loc('KM')\n",
    "        closures.iat[index, col] = km\n",
    "    return closures"
   ]
  },
  {
   "cell_type": "code",
   "execution_count": 15,
   "metadata": {},
   "outputs": [],
   "source": [
    "def add_closures(closures):\n",
    "    road_sample = gpd.read_file('/home/jovyan/work/data/b-roads/road-split/54.gpkg')\n",
    "    date_gpkg = road_sample[0:0]\n",
    "    \n",
    "    #now we want to manually update the closures and stuff\n",
    "    for index, row in closures.iterrows():\n",
    "        road_id = row['Road ID']\n",
    "        km = row['KM']\n",
    "\n",
    "        #find the road and date files, update\n",
    "        road_path = '/home/jovyan/work/data/b-roads/road-split/' + str(road_id) + '.gpkg'\n",
    "        road_gpkg = gpd.read_file(road_path)\n",
    "        status_col = road_gpkg.columns.get_loc('status')\n",
    "\n",
    "        #only 1 closure\n",
    "        if isinstance(km, int):\n",
    "            try:\n",
    "                row_ind = road_gpkg.index[road_gpkg['segment_id'] == km].tolist()\n",
    "                road_gpkg.at[row_ind, 'status'] = 1\n",
    "                date_gpkg = date_gpkg.append(road_gpkg)\n",
    "\n",
    "            except IndexError:\n",
    "                print(\"Not a valid road closure - road does not have this km marking\")\n",
    "                continue\n",
    "\n",
    "        else:\n",
    "            #print(road_id)\n",
    "            for i in range(0, len(km)):\n",
    "                try:\n",
    "                    row_ind = road_gpkg.index[road_gpkg['segment_id'] == int(km[i])].tolist()\n",
    "                    road_gpkg.at[row_ind, 'status'] = 1\n",
    "                except IndexError:\n",
    "                    print(\"Not a valid road closure - road does not have this km marking\")\n",
    "            date_gpkg = date_gpkg.append(road_gpkg)\n",
    "    \n",
    "    #date = closures['Date'][0]\n",
    "    date = closures['Date'][0].date().strftime('%Y-%m-%d')\n",
    "    date_gpkg.loc[:, 'date'] = date\n",
    "    \n",
    "    return date_gpkg"
   ]
  },
  {
   "cell_type": "code",
   "execution_count": 19,
   "metadata": {},
   "outputs": [],
   "source": [
    "def make_closure_file(filename):\n",
    "    closures = pd.read_excel(filename) #list of road closures on a date\n",
    "    closures.astype(object)\n",
    "\n",
    "    date = closures['Date'][0].date().strftime('%Y-%m-%d')\n",
    "    date_path = '/home/jovyan/work/data/a-closures/closures-agg/' + date + '.gpkg'\n",
    "\n",
    "    closures = update_km(closures)\n",
    "\n",
    "    date_gpkg = add_closures(closures)\n",
    "    date_gpkg.to_file(date_path, driver='GPKG')\n",
    "    print('done!')\n",
    "    return date_gpkg"
   ]
  },
  {
   "cell_type": "markdown",
   "metadata": {},
   "source": [
    "#### START HERE\n",
    "\n",
    " - update the filepath with each new closure xlsx that needs to be read, then run straight through"
   ]
  },
  {
   "cell_type": "code",
   "execution_count": 20,
   "metadata": {},
   "outputs": [
    {
     "name": "stdout",
     "output_type": "stream",
     "text": [
      "done!\n"
     ]
    }
   ],
   "source": [
    "filepath = '/home/jovyan/work/data/a-closures/daily/2021-07-02.xlsx'\n",
    "data = make_closure_file(filepath)"
   ]
  },
  {
   "cell_type": "code",
   "execution_count": 17,
   "metadata": {},
   "outputs": [
    {
     "data": {
      "text/html": [
       "<div>\n",
       "<style scoped>\n",
       "    .dataframe tbody tr th:only-of-type {\n",
       "        vertical-align: middle;\n",
       "    }\n",
       "\n",
       "    .dataframe tbody tr th {\n",
       "        vertical-align: top;\n",
       "    }\n",
       "\n",
       "    .dataframe thead th {\n",
       "        text-align: right;\n",
       "    }\n",
       "</style>\n",
       "<table border=\"1\" class=\"dataframe\">\n",
       "  <thead>\n",
       "    <tr style=\"text-align: right;\">\n",
       "      <th></th>\n",
       "      <th>road_id</th>\n",
       "      <th>date</th>\n",
       "      <th>status</th>\n",
       "      <th>segment_id</th>\n",
       "      <th>geometry</th>\n",
       "    </tr>\n",
       "  </thead>\n",
       "  <tbody>\n",
       "    <tr>\n",
       "      <th>56</th>\n",
       "      <td>54</td>\n",
       "      <td>2021-07-02</td>\n",
       "      <td>1</td>\n",
       "      <td>57</td>\n",
       "      <td>MULTILINESTRING ((79.07799 30.17550, 79.07768 ...</td>\n",
       "    </tr>\n",
       "  </tbody>\n",
       "</table>\n",
       "</div>"
      ],
      "text/plain": [
       "    road_id        date  status  segment_id  \\\n",
       "56       54  2021-07-02       1          57   \n",
       "\n",
       "                                             geometry  \n",
       "56  MULTILINESTRING ((79.07799 30.17550, 79.07768 ...  "
      ]
     },
     "execution_count": 17,
     "metadata": {},
     "output_type": "execute_result"
    }
   ],
   "source": [
    "data.loc[data['status']==1]"
   ]
  }
 ],
 "metadata": {
  "kernelspec": {
   "display_name": "Python 3",
   "language": "python",
   "name": "python3"
  },
  "language_info": {
   "codemirror_mode": {
    "name": "ipython",
    "version": 3
   },
   "file_extension": ".py",
   "mimetype": "text/x-python",
   "name": "python",
   "nbconvert_exporter": "python",
   "pygments_lexer": "ipython3",
   "version": "3.8.5"
  }
 },
 "nbformat": 4,
 "nbformat_minor": 5
}
