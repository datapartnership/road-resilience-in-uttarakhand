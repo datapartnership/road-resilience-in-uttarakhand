{
 "cells": [
  {
   "cell_type": "code",
   "execution_count": null,
   "metadata": {},
   "outputs": [],
   "source": [
    "# Download\n",
    "#https://data.humdata.org/dataset/indonesia-high-resolution-population-density-maps-demographic-estimates\n",
    "#https://data.humdata.org/dataset/philippines-high-resolution-population-density-maps-demographic-estimates\n",
    "!wget -O \"./data/phl_pop_geotiff.zip\" \"https://data.humdata.org/dataset/6d9f35c0-4764-49ee-b364-329db0b7a47d/resource/4a178155-b746-4f04-8f1b-2a79cc6f5153/download/population_phl_2018-10-01_geotiff.zip\"\n",
    "!wget -O \"./data/phl_pop_csv.zip\" \"https://data.humdata.org/dataset/6d9f35c0-4764-49ee-b364-329db0b7a47d/resource/0b35adea-5104-4598-868f-d4266d05c55a/download/population_phl_2018-10-01.csv.zip\"\n"
   ]
  },
  {
   "cell_type": "code",
   "execution_count": null,
   "metadata": {},
   "outputs": [],
   "source": [
    "!unzip ./data/phl_pop_csv.zip -d ./data\n",
    "!unzip ./data/phl_pop_geotiff.zip -d ./data"
   ]
  },
  {
   "cell_type": "code",
   "execution_count": null,
   "metadata": {},
   "outputs": [],
   "source": [
    "#Getting Administrative Boundaries for the Philippines\n",
    "!wget -O \"./data/phl_adm_psa_namria_20200529_shp.zip\" \"https://data.humdata.org/dataset/caf116df-f984-4deb-85ca-41b349d3f313/resource/12457689-6a86-4474-8032-5ca9464d38a8/download/phl_adm_psa_namria_20200529_shp.zip\"\n",
    "!unzip ./data/phl_adm_psa_namria_20200529_shp.zip -d ./data/phl_admin_bounds"
   ]
  }
 ],
 "metadata": {
  "kernelspec": {
   "display_name": "Python 3",
   "language": "python",
   "name": "python3"
  },
  "language_info": {
   "codemirror_mode": {
    "name": "ipython",
    "version": 3
   },
   "file_extension": ".py",
   "mimetype": "text/x-python",
   "name": "python",
   "nbconvert_exporter": "python",
   "pygments_lexer": "ipython3",
   "version": "3.8.4"
  }
 },
 "nbformat": 4,
 "nbformat_minor": 4
}
