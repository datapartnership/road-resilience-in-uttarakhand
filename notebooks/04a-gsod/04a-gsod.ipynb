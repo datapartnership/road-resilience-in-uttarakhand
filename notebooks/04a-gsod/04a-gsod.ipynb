{
 "cells": [
  {
   "cell_type": "code",
   "execution_count": 2,
   "metadata": {},
   "outputs": [
    {
     "name": "stderr",
     "output_type": "stream",
     "text": [
      "Matplotlib is building the font cache; this may take a moment.\n"
     ]
    }
   ],
   "source": [
    "import pandas as pd\n",
    "import geopandas as gpd\n",
    "import numpy as np\n",
    "import matplotlib.pyplot as plt\n",
    "import osmnx as ox\n",
    "import json\n",
    "from shapely.geometry import shape, GeometryCollection, Polygon, Point"
   ]
  },
  {
   "cell_type": "markdown",
   "metadata": {},
   "source": [
    "### 04a-gsod"
   ]
  },
  {
   "cell_type": "markdown",
   "metadata": {},
   "source": [
    "**Summary:** an exploration on using NOAA's GSOD (Global Summary of the Day) as a historical weather data source\n",
    "\n",
    "**Before exploring:**\n",
    " - Download NOAA data through AWS.\n",
    " - Will come out as a set of CSV files, each CSV file has a numerical ID representing a station somewhere in the world. \n",
    " - Inside the CSV, there will be an entry per day with weather data. \n",
    "\n",
    "**Challenge:** which stations are in Uttarakhand? Are they collecting data in 2021?\n",
    " - Download [.txt file](https://www.ncei.noaa.gov/pub/data/noaa/isd-history.txt) with all station names, locations, and start & end collection periods.\n",
    " - File is named `isd-history.txt`"
   ]
  },
  {
   "cell_type": "markdown",
   "metadata": {},
   "source": [
    "`isd-history.txt` is a strange .txt file since its README is included in the file and it is not delimited in a nice way, so the following cell was run to process the data into a nice .csv, `isd-history.csv`. Since that .csv already exists, **you don't need to run this cell**."
   ]
  },
  {
   "cell_type": "code",
   "execution_count": 65,
   "metadata": {},
   "outputs": [],
   "source": [
    "df = pd.read_csv('isd-history.txt', header = 17)\n",
    "cols = df.columns.str.split().values.tolist()[0] #establish individual columns\n",
    "\n",
    "data = pd.DataFrame(columns=cols)\n",
    "\n",
    "#manually add data to a dataframe\n",
    "for index, row in df.iterrows():\n",
    "    string = row[0]\n",
    "    data.loc[index, cols[0]] = string[0:5]\n",
    "    data.loc[index, cols[1]] = string[7:11]\n",
    "    data.loc[index, cols[2]] = string[13:42]\n",
    "    data.loc[index, cols[4]] = string[43:45]\n",
    "    data.loc[index, cols[5]] = string[48:50]\n",
    "    data.loc[index, cols[6]] = string[51:55]\n",
    "    data.loc[index, cols[7]] = string[57:64]\n",
    "    data.loc[index, cols[8]] = string[65:73]\n",
    "    data.loc[index, cols[9]] = string[74:81] \n",
    "    data.loc[index, cols[10]] = string[82:90]\n",
    "    data.loc[index, cols[11]] = string[91:99]\n",
    "data.to_csv('isd-history.csv')\n",
    "\n",
    "data = pd.read_csv('isd-history.csv')\n",
    "\n",
    "data.drop(['Unnamed: 0'],axis=1)\n",
    "\n",
    "#change latitude, longitude, and elevation to strings. manually handle empty values\n",
    "for index, row in data.iterrows():\n",
    "    try:\n",
    "        data.loc[index, 'LAT'] = float(row['LAT'])\n",
    "        data.loc[index, 'LON'] = float(row['LON'])\n",
    "        data.loc[index, 'ELEV(M)'] = float(row['ELEV(M)'])\n",
    "    except ValueError:\n",
    "        data.loc[index, 'LAT'] = np.nan\n",
    "        data.loc[index, 'LON'] = np.nan\n",
    "    try:\n",
    "        data.loc[index, 'ELEV(M)'] = float(row['ELEV(M)'])\n",
    "    except ValueError:\n",
    "        data.loc[index, 'ELEV(M)'] = np.nan\n",
    "\n",
    "data.to_csv('isd-history.csv') #save it"
   ]
  },
  {
   "cell_type": "markdown",
   "metadata": {},
   "source": [
    "Then, convert to geopandas and narrow search to all stations in India."
   ]
  },
  {
   "cell_type": "code",
   "execution_count": null,
   "metadata": {},
   "outputs": [],
   "source": [
    "data = pd.read_csv('isd-history.csv')\n",
    "india_stations = data.loc[(data['CTRY'] == 'IN')]\n",
    "gdf = gpd.GeoDataFrame(\n",
    "    india_stations, geometry=gpd.points_from_xy(india_stations.LON, india_stations.LAT))"
   ]
  },
  {
   "cell_type": "markdown",
   "metadata": {},
   "source": [
    "Download Uttarakhand's geographic boundaries from Open Street Maps."
   ]
  },
  {
   "cell_type": "code",
   "execution_count": null,
   "metadata": {},
   "outputs": [],
   "source": [
    "place_name = 'Uttarakhand, India'\n",
    "place = ox.geocode_to_gdf(place_name)"
   ]
  },
  {
   "cell_type": "markdown",
   "metadata": {},
   "source": [
    "Using [code template](https://stackoverflow.com/questions/63369715/filter-a-geopandas-dataframe-within-a-polygon-and-remove-from-the-dataframe-the), filter geodataframe to only include stations in Uttarakhand."
   ]
  },
  {
   "cell_type": "code",
   "execution_count": 238,
   "metadata": {},
   "outputs": [
    {
     "name": "stderr",
     "output_type": "stream",
     "text": [
      "<ipython-input-238-6203ba7218c4>:3: SettingWithCopyWarning: \n",
      "A value is trying to be set on a copy of a slice from a DataFrame.\n",
      "Try using .loc[row_indexer,col_indexer] = value instead\n",
      "\n",
      "See the caveats in the documentation: https://pandas.pydata.org/pandas-docs/stable/user_guide/indexing.html#returning-a-view-versus-a-copy\n",
      "  df['withinQ'] = \"\"\n",
      "<ipython-input-238-6203ba7218c4>:13: SettingWithCopyWarning: \n",
      "A value is trying to be set on a copy of a slice from a DataFrame.\n",
      "Try using .loc[row_indexer,col_indexer] = value instead\n",
      "\n",
      "See the caveats in the documentation: https://pandas.pydata.org/pandas-docs/stable/user_guide/indexing.html#returning-a-view-versus-a-copy\n",
      "  df['withinQ'] = withinQlist\n"
     ]
    },
    {
     "data": {
      "text/plain": [
       "<matplotlib.collections.PathCollection at 0x7fd818fb1a30>"
      ]
     },
     "execution_count": 238,
     "metadata": {},
     "output_type": "execute_result"
    },
    {
     "data": {
      "image/png": "[encoded data removed]",
      "text/plain": [
       "<Figure size 432x288 with 1 Axes>"
      ]
     },
     "metadata": {
      "needs_background": "light"
     },
     "output_type": "display_data"
    }
   ],
   "source": [
    "df = india_stations\n",
    "# add new column to df\n",
    "df['withinQ'] = \"\"\n",
    "\n",
    "withinQlist = []\n",
    "for lon,lat in zip(df.LON, df.LAT):\n",
    "    pt = Point(lon, lat)\n",
    "    withinQ = pt.within(place['geometry'].values[0])\n",
    "    #print( withinQ )\n",
    "    withinQlist.append(withinQ)\n",
    "\n",
    "# update values in the that column, values: True/False\n",
    "df['withinQ'] = withinQlist\n",
    "\n",
    "# select points within ecuador, assign to `result_df` dataframe\n",
    "result_df = df[df.withinQ==True]\n",
    "# select points outside ecuador, assign to `xresult_df` dataframe\n",
    "xresult_df = df[df.withinQ==False]\n",
    "\n",
    "# for checking/visualization, create a plot of relevant geometries\n",
    "ax1 = place.plot(color='pink')\n",
    "ax1.scatter(result_df.LON, result_df.LAT, s=50, color='green')\n",
    "#ax1.scatter(xresult_df.Longitude, xresult_df.Latitude, s=30, color='red')"
   ]
  },
  {
   "cell_type": "markdown",
   "metadata": {},
   "source": [
    "Filter geodataframe to only include stations in Uttarakhand, in the timeframe that we want (in 2021). We'll see that only5 stations match this criteria, which is not helpful for this analysis."
   ]
  },
  {
   "cell_type": "code",
   "execution_count": 262,
   "metadata": {},
   "outputs": [
    {
     "data": {
      "text/html": [
       "<div>\n",
       "<style scoped>\n",
       "    .dataframe tbody tr th:only-of-type {\n",
       "        vertical-align: middle;\n",
       "    }\n",
       "\n",
       "    .dataframe tbody tr th {\n",
       "        vertical-align: top;\n",
       "    }\n",
       "\n",
       "    .dataframe thead th {\n",
       "        text-align: right;\n",
       "    }\n",
       "</style>\n",
       "<table border=\"1\" class=\"dataframe\">\n",
       "  <thead>\n",
       "    <tr style=\"text-align: right;\">\n",
       "      <th></th>\n",
       "      <th>Unnamed: 0</th>\n",
       "      <th>Unnamed: 0.1</th>\n",
       "      <th>USAF</th>\n",
       "      <th>WBAN</th>\n",
       "      <th>STATION</th>\n",
       "      <th>NAME</th>\n",
       "      <th>CTRY</th>\n",
       "      <th>ST</th>\n",
       "      <th>CALL</th>\n",
       "      <th>LAT</th>\n",
       "      <th>LON</th>\n",
       "      <th>ELEV(M)</th>\n",
       "      <th>BEGIN</th>\n",
       "      <th>END</th>\n",
       "      <th>geometry</th>\n",
       "      <th>withinQ</th>\n",
       "    </tr>\n",
       "  </thead>\n",
       "  <tbody>\n",
       "    <tr>\n",
       "      <th>9659</th>\n",
       "      <td>9659</td>\n",
       "      <td>9659</td>\n",
       "      <td>42111</td>\n",
       "      <td>9999</td>\n",
       "      <td>DEHRADUN</td>\n",
       "      <td>NaN</td>\n",
       "      <td>IN</td>\n",
       "      <td></td>\n",
       "      <td></td>\n",
       "      <td>30.317</td>\n",
       "      <td>78.033</td>\n",
       "      <td>682</td>\n",
       "      <td>19440101</td>\n",
       "      <td>20210803</td>\n",
       "      <td>POINT (78.03300 30.31700)</td>\n",
       "      <td>True</td>\n",
       "    </tr>\n",
       "    <tr>\n",
       "      <th>9661</th>\n",
       "      <td>9661</td>\n",
       "      <td>9661</td>\n",
       "      <td>42114</td>\n",
       "      <td>9999</td>\n",
       "      <td>TEHRI</td>\n",
       "      <td>NaN</td>\n",
       "      <td>IN</td>\n",
       "      <td></td>\n",
       "      <td></td>\n",
       "      <td>30.4</td>\n",
       "      <td>78.483</td>\n",
       "      <td>770</td>\n",
       "      <td>19981224</td>\n",
       "      <td>20210803</td>\n",
       "      <td>POINT (78.48300 30.40000)</td>\n",
       "      <td>True</td>\n",
       "    </tr>\n",
       "    <tr>\n",
       "      <th>9664</th>\n",
       "      <td>9664</td>\n",
       "      <td>9664</td>\n",
       "      <td>42121</td>\n",
       "      <td>9999</td>\n",
       "      <td>MUNSYARI</td>\n",
       "      <td>NaN</td>\n",
       "      <td>IN</td>\n",
       "      <td></td>\n",
       "      <td></td>\n",
       "      <td>30.117</td>\n",
       "      <td>80.25</td>\n",
       "      <td>3414</td>\n",
       "      <td>20011024</td>\n",
       "      <td>20210420</td>\n",
       "      <td>POINT (80.25000 30.11700)</td>\n",
       "      <td>True</td>\n",
       "    </tr>\n",
       "    <tr>\n",
       "      <th>9674</th>\n",
       "      <td>9674</td>\n",
       "      <td>9674</td>\n",
       "      <td>42147</td>\n",
       "      <td>9999</td>\n",
       "      <td>MUKTESHWAR KUMAON</td>\n",
       "      <td>NaN</td>\n",
       "      <td>IN</td>\n",
       "      <td></td>\n",
       "      <td></td>\n",
       "      <td>29.467</td>\n",
       "      <td>79.65</td>\n",
       "      <td>2311</td>\n",
       "      <td>19440101</td>\n",
       "      <td>20210803</td>\n",
       "      <td>POINT (79.65000 29.46700)</td>\n",
       "      <td>True</td>\n",
       "    </tr>\n",
       "    <tr>\n",
       "      <th>9675</th>\n",
       "      <td>9675</td>\n",
       "      <td>9675</td>\n",
       "      <td>42148</td>\n",
       "      <td>9999</td>\n",
       "      <td>PANTNAGAR</td>\n",
       "      <td>NaN</td>\n",
       "      <td>IN</td>\n",
       "      <td></td>\n",
       "      <td></td>\n",
       "      <td>29.033</td>\n",
       "      <td>79.467</td>\n",
       "      <td>233</td>\n",
       "      <td>20070520</td>\n",
       "      <td>20210803</td>\n",
       "      <td>POINT (79.46700 29.03300)</td>\n",
       "      <td>True</td>\n",
       "    </tr>\n",
       "  </tbody>\n",
       "</table>\n",
       "</div>"
      ],
      "text/plain": [
       "      Unnamed: 0  Unnamed: 0.1   USAF  WBAN                        STATION  \\\n",
       "9659        9659          9659  42111  9999  DEHRADUN                        \n",
       "9661        9661          9661  42114  9999  TEHRI                           \n",
       "9664        9664          9664  42121  9999  MUNSYARI                        \n",
       "9674        9674          9674  42147  9999  MUKTESHWAR KUMAON               \n",
       "9675        9675          9675  42148  9999  PANTNAGAR                       \n",
       "\n",
       "      NAME CTRY  ST  CALL     LAT     LON ELEV(M)     BEGIN       END  \\\n",
       "9659   NaN   IN            30.317  78.033     682  19440101  20210803   \n",
       "9661   NaN   IN              30.4  78.483     770  19981224  20210803   \n",
       "9664   NaN   IN            30.117   80.25    3414  20011024  20210420   \n",
       "9674   NaN   IN            29.467   79.65    2311  19440101  20210803   \n",
       "9675   NaN   IN            29.033  79.467     233  20070520  20210803   \n",
       "\n",
       "                       geometry  withinQ  \n",
       "9659  POINT (78.03300 30.31700)     True  \n",
       "9661  POINT (78.48300 30.40000)     True  \n",
       "9664  POINT (80.25000 30.11700)     True  \n",
       "9674  POINT (79.65000 29.46700)     True  \n",
       "9675  POINT (79.46700 29.03300)     True  "
      ]
     },
     "execution_count": 262,
     "metadata": {},
     "output_type": "execute_result"
    }
   ],
   "source": [
    "df.loc[(df['withinQ'] == True) & (df['END'] > 20210000) ]"
   ]
  },
  {
   "cell_type": "markdown",
   "metadata": {},
   "source": [
    "**Appendix**\n",
    "\n",
    "Potentially helpful links:\n",
    " - [download txt from chrome](https://apple.stackexchange.com/questions/42187/how-can-i-download-plain-txt-files-in-safari-chrome)\n",
    " - [how to load txt file](https://stackoverflow.com/questions/21546739/load-data-from-txt-with-pandas)\n",
    " - [`pd.read_csv` docs](https://pandas.pydata.org/docs/reference/api/pandas.read_csv.html)\n",
    " - [np array object to list](https://numpy.org/doc/stable/reference/generated/numpy.ndarray.tolist.html)\n",
    " - [iterrows example](https://stackoverflow.com/questions/16476924/how-to-iterate-over-rows-in-a-dataframe-in-pandas)\n",
    " - [export pandas to csv](https://datatofish.com/export-dataframe-to-csv/)\n",
    " - [drop column](https://pandas.pydata.org/pandas-docs/stable/reference/api/pandas.DataFrame.drop.html)\n",
    " - [try except statements](https://docs.python.org/3/tutorial/errors.html)\n",
    " - [geopandas from latitude and longitude](https://geopandas.org/gallery/create_geopandas_from_pandas.html)"
   ]
  },
  {
   "cell_type": "code",
   "execution_count": null,
   "metadata": {},
   "outputs": [],
   "source": []
  }
 ],
 "metadata": {
  "kernelspec": {
   "display_name": "Python 3",
   "language": "python",
   "name": "python3"
  },
  "language_info": {
   "codemirror_mode": {
    "name": "ipython",
    "version": 3
   },
   "file_extension": ".py",
   "mimetype": "text/x-python",
   "name": "python",
   "nbconvert_exporter": "python",
   "pygments_lexer": "ipython3",
   "version": "3.8.5"
  }
 },
 "nbformat": 4,
 "nbformat_minor": 4
}
