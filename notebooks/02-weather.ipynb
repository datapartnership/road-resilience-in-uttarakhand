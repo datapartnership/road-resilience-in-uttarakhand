{
 "cells": [
  {
   "cell_type": "markdown",
   "id": "366743e8",
   "metadata": {},
   "source": [
    "### 02-weather\n",
    " - collects weather data from NASA GPM API\n",
    " - Step 20 of methodology"
   ]
  },
  {
   "cell_type": "code",
   "execution_count": 3,
   "id": "6d9735a5",
   "metadata": {},
   "outputs": [],
   "source": [
    "import geopandas as gpd\n",
    "from rasterstats import zonal_stats\n",
    "import rasterio\n",
    "import requests\n",
    "import pandas as pd\n",
    "import numpy as np\n",
    "import os\n",
    "\n",
    "#time\n",
    "import pytz\n",
    "from datetime import date, datetime, timedelta"
   ]
  },
  {
   "cell_type": "markdown",
   "id": "d3cc4c3a",
   "metadata": {},
   "source": [
    "functions compiled"
   ]
  },
  {
   "cell_type": "code",
   "execution_count": 4,
   "id": "de09bb89",
   "metadata": {},
   "outputs": [],
   "source": [
    "def get_url(startTime, endTime):\n",
    "    url = \"https://pmmpublisher.pps.eosdis.nasa.gov/opensearch?q=precip_30mn&\" + \\\n",
    "    \"lat=30\" + \\\n",
    "    \"&\" +\\\n",
    "    \"lon=78\" + \\\n",
    "    \"&limit=&\" + \\\n",
    "    \"startTime=\" + startTime + \\\n",
    "    \"&\" +\\\n",
    "    \"endTime=\" + endTime\n",
    "    return url"
   ]
  },
  {
   "cell_type": "code",
   "execution_count": 5,
   "id": "485cff49",
   "metadata": {},
   "outputs": [],
   "source": [
    "def get_raster_list(url, start, end):   \n",
    "    r = requests.get(url)    \n",
    "    items = r.json()['items']\n",
    "    turl = None\n",
    "    df = pd.DataFrame(index=range(0,len(items)), columns=['date', 'url', 'inRange'])\n",
    "    ind = 0\n",
    "    for i in items:\n",
    "        #convert date string to datetime\n",
    "        date = datetime.strptime(i['properties']['date']['@value'], '%Y-%m-%dT%H:%M:%S+00:00')\n",
    "        date = date.astimezone(pytz.utc) #set timezone\n",
    "        df.iloc[ind, 0] = date\n",
    "        \n",
    "        #add info on whether or not it is in time range\n",
    "        df.iloc[ind, 2] = time_in_range(start, end, date)\n",
    "        \n",
    "        #add urls if they are tifs\n",
    "        mediaType = i['action'][1]['using'][1]['mediaType']\n",
    "        if mediaType == 'image/tiff':\n",
    "            df.iloc[ind, 1] = i['action'][1]['using'][1]['url']\n",
    "        else:\n",
    "            df.iloc[ind, 1] = i['action'][1]['using'][2]['url']\n",
    "        ind += 1\n",
    "    return df"
   ]
  },
  {
   "cell_type": "code",
   "execution_count": 6,
   "id": "60badc46",
   "metadata": {},
   "outputs": [],
   "source": [
    "def time_in_range(start, end, x):\n",
    "    \"\"\"Return true if x is in the range [start, end]\"\"\"\n",
    "    if start <= end:\n",
    "        return start < x <= end\n",
    "    else:\n",
    "        return start < x or x <= end"
   ]
  },
  {
   "cell_type": "code",
   "execution_count": 7,
   "id": "0ff83b6a",
   "metadata": {},
   "outputs": [],
   "source": [
    "def get_precip_1d(df, line):\n",
    "    total = 0\n",
    "\n",
    "    for index, row in df.iterrows():\n",
    "        #print(row['url'])\n",
    "        src = rasterio.open(row['url'])\n",
    "        #print(size(src.read(1)))\n",
    "        rast_stats = zonal_stats(line, \n",
    "            src.read(1), affine=src.transform,\n",
    "            stats=\"count min mean max median\")\n",
    "        mean = rast_stats[0]['mean']\n",
    "        #print(rast_stats)\n",
    "        total += mean\n",
    "    \n",
    "    return total"
   ]
  },
  {
   "cell_type": "code",
   "execution_count": 8,
   "id": "8dbb6ead",
   "metadata": {},
   "outputs": [],
   "source": [
    "def add_time(file,tz):\n",
    "    #assume all the closures occur or are reported at 6pm, or earlier\n",
    "    dateTime = datetime.strptime(file['date'][0] + ' 17-59-59', '%Y-%m-%d %H-%M-%S')\n",
    "    timezone = pytz.timezone(tz)\n",
    "    \n",
    "    dateTime_tz = timezone.localize(dateTime) #time in timezone\n",
    "    dateTime_utc = dateTime_tz.astimezone(pytz.utc) #time in utc\n",
    "\n",
    "    file['datetime'] = dateTime_utc\n",
    "    return file, dateTime_utc"
   ]
  },
  {
   "cell_type": "code",
   "execution_count": 9,
   "id": "028c309a",
   "metadata": {},
   "outputs": [],
   "source": [
    "def add_precip_1d(file, tz):\n",
    "    file, dateTime_utc = add_time(file, tz)\n",
    "    \n",
    "    #start and end time as strings\n",
    "    endTime = dateTime_utc.strftime('%Y-%m-%d')\n",
    "    startTime = (dateTime_utc - timedelta(days=1)).strftime('%Y-%m-%d')\n",
    "    \n",
    "    #get the urls to help get weather data !!\n",
    "    url = get_url(startTime, endTime)\n",
    "    df = get_raster_list(url, dateTime_utc - timedelta(days=1), dateTime_utc)\n",
    "    #some ~processing~\n",
    "    in_range = df.loc[df['inRange'] == True]\n",
    "    try:\n",
    "        file.insert(len(road.columns),'precip_1d', np.nan)\n",
    "    except ValueError:\n",
    "        pass\n",
    "    \n",
    "    #add to the list\n",
    "    for index, row in road.iterrows():\n",
    "        col = file.columns.get_loc(\"precip_1d\")\n",
    "        precip_1d = get_precip_1d(in_range, row['geometry'])\n",
    "        file.iloc[index,col] = precip_1d\n",
    "    \n",
    "    print(endTime)\n",
    "    \n",
    "    return file"
   ]
  },
  {
   "cell_type": "code",
   "execution_count": 16,
   "id": "e0d7dbeb-8664-417b-aa33-d9dc88b9c0c6",
   "metadata": {},
   "outputs": [],
   "source": [
    "filepath = '/Users/emilyfang/Desktop/road_flooding2/data/a-closures/closures-agg/2021-07-08.gpkg'"
   ]
  },
  {
   "cell_type": "code",
   "execution_count": 17,
   "id": "c7ac9fc5-0fb5-4422-bf12-a4b8b08da7d0",
   "metadata": {},
   "outputs": [
    {
     "name": "stdout",
     "output_type": "stream",
     "text": [
      "2021-07-08\n"
     ]
    }
   ],
   "source": [
    "road = gpd.read_file(filepath)\n",
    "road = road.to_crs(epsg=4326)\n",
    "data = add_precip_1d(road, 'Asia/Kolkata')\n",
    "data.to_file(filepath, driver='GPKG')"
   ]
  }
 ],
 "metadata": {
  "kernelspec": {
   "display_name": "Python 3",
   "language": "python",
   "name": "python3"
  },
  "language_info": {
   "codemirror_mode": {
    "name": "ipython",
    "version": 3
   },
   "file_extension": ".py",
   "mimetype": "text/x-python",
   "name": "python",
   "nbconvert_exporter": "python",
   "pygments_lexer": "ipython3",
   "version": "3.8.5"
  }
 },
 "nbformat": 4,
 "nbformat_minor": 5
}
