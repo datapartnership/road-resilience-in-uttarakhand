{
 "cells": [
  {
   "cell_type": "markdown",
   "metadata": {},
   "source": [
    "### Tomorrow.io Notes (free version)\n",
    "\n",
    "Exploration of tomorrow.io's weather API"
   ]
  },
  {
   "cell_type": "code",
   "execution_count": 4,
   "metadata": {},
   "outputs": [
    {
     "name": "stderr",
     "output_type": "stream",
     "text": [
      "Matplotlib is building the font cache; this may take a moment.\n"
     ]
    }
   ],
   "source": [
    "import requests\n",
    "import pandas as pd\n",
    "import json\n",
    "import numpy as np\n",
    "import matplotlib.pyplot as plt\n",
    "from scipy import integrate\n",
    "from datetime import datetime, time, timedelta\n",
    "import statsmodels.api as sm\n",
    "\n",
    "KEY = \"BSeLVQzecQssiPyaI4CBmkFdvMvGarYa\" #add personal key here"
   ]
  },
  {
   "cell_type": "markdown",
   "metadata": {},
   "source": [
    "#### 1 Overview\n",
    "\n",
    "Tomorrow.io has two main data formats - data layers and insights. \n",
    " - Data layers can be thought of as \"raw data\", ie. precipitation rate, temperature, soil moisture, etc.\n",
    " - Insights, such as probability of a flood or a fire, are calculated from the data layers.\n",
    " \n",
    "The two data formats are retrieved in different ways - data layers are retrieved as timelines, while insights are retrieved as events. "
   ]
  },
  {
   "cell_type": "markdown",
   "metadata": {},
   "source": [
    "#### 2 Querying Locations\n",
    "\n",
    "Locations can be queried as Points (free trial) or as LineStrings/Polygons (paid version), and should follow the [formats specified in the docs](https://docs.tomorrow.io/reference/api-formats#locations). You can also check out the [RFC 7946 appendix](https://datatracker.ietf.org/doc/html/rfc7946#appendix-A) for more specifics on how to format locations."
   ]
  },
  {
   "cell_type": "markdown",
   "metadata": {},
   "source": [
    "##### 2a Points\n",
    "\n",
    "Points can be queried as `latitude,longitude` strings, like so:"
   ]
  },
  {
   "cell_type": "code",
   "execution_count": null,
   "metadata": {},
   "outputs": [],
   "source": [
    "point = '30.2, 78.7'"
   ]
  },
  {
   "cell_type": "markdown",
   "metadata": {},
   "source": [
    "##### 2b LineStrings\n",
    "\n",
    "To query a LineString, use tomorrow.io's Location API to define a location first. You can read [Location API docs](https://docs.tomorrow.io/reference/post-locations) for more information, or use the function below:\n",
    "\n",
    "**NOTE: need to make sure this works, can't do this with a free trial. but should work because it runs into a forbidden access error**"
   ]
  },
  {
   "cell_type": "code",
   "execution_count": 11,
   "metadata": {},
   "outputs": [
    {
     "data": {
      "text/plain": [
       "<Response [403]>"
      ]
     },
     "execution_count": 11,
     "metadata": {},
     "output_type": "execute_result"
    }
   ],
   "source": [
    "def get_line(coordinates,name):\n",
    "    url = 'https://api.tomorrow.io/v4/locations?apikey=' + KEY\n",
    "    payload = {\n",
    "        \"geometry\": {\n",
    "            \"type\": \"LineString\",\n",
    "            \"coordinates\": coordinates},\n",
    "        \"name\": name\n",
    "    }\n",
    "    headers = {\n",
    "        \"Accept\": \"application/json\",\n",
    "        \"Content-Type\": \"application/json\"\n",
    "    }\n",
    "    response = requests.request(\"POST\", url, json=payload, headers=headers)\n",
    "    return response\n",
    "\n",
    "coordinates = [[30.3397,79.3156], [30.3641,79.3136]]\n",
    "name = 'NH7'\n",
    "get_line(coordinates,name)"
   ]
  },
  {
   "cell_type": "markdown",
   "metadata": {},
   "source": [
    "##### 2c Polygons\n",
    "\n",
    "Similarly, you can use the Location API to query a polygon. A sample function is written below:\n",
    "\n",
    "**NOTE: not convinced that this works because it gives a 400 error instead of 403 (bad request)**"
   ]
  },
  {
   "cell_type": "code",
   "execution_count": 10,
   "metadata": {},
   "outputs": [
    {
     "data": {
      "text/plain": [
       "<Response [400]>"
      ]
     },
     "execution_count": 10,
     "metadata": {},
     "output_type": "execute_result"
    }
   ],
   "source": [
    "def get_polygon(coordinates,name):\n",
    "    url = 'https://api.tomorrow.io/v4/locations?apikey=' + KEY\n",
    "    payload = {\n",
    "        \"geometry\": {\n",
    "            \"type\": \"Polygon\",\n",
    "            \"coordinates\": coordinates},\n",
    "        \"name\": name\n",
    "    }\n",
    "    headers = {\n",
    "        \"Accept\": \"application/json\",\n",
    "        \"Content-Type\": \"application/json\"\n",
    "    }\n",
    "    response = requests.request(\"POST\", url, json=payload, headers=headers)\n",
    "    return response\n",
    "\n",
    "coordinates = [[30.3397,79.3156], [30.3641,79.3136], [30.3,79.3]]\n",
    "name = 'NH7'\n",
    "get_polygon(coordinates,name)"
   ]
  },
  {
   "cell_type": "markdown",
   "metadata": {},
   "source": [
    "#### 3 Retrieving Data Layers/Timelines"
   ]
  },
  {
   "cell_type": "markdown",
   "metadata": {},
   "source": [
    "It would be best to first read the [Data Layers Overview](https://docs.tomorrow.io/reference/data-layers-overview) and the [Timelines Overview](https://docs.tomorrow.io/reference/timeline-overview).\n",
    "\n",
    "Tomorrow.io requires some query params to retrieve a timeline, which are detailed on the [Get Timelines page](https://docs.tomorrow.io/reference/get-timelines). Some additional notes on each parameter:\n",
    " - `location:` input as described above\n",
    " - `fields:` full list of fields in alphabetical order found on the [Data Layers Overview](https://docs.tomorrow.io/reference/data-layers-overview). They are also categorized as [Core Layers](https://docs.tomorrow.io/reference/data-layers-core) and more specific layers - for example, [Air Quality](https://docs.tomorrow.io/reference/data-layers-air). \n",
    "    - When querying lines or polygons, you can append a suffix (`Max`, `Min`, `Avg`, `MaxTime/MinTime`). For example, entering `temperatureAvg` as a field will return the average temperature in the line/polygon. \n",
    "    - Check out the [Data Layers Overview](https://docs.tomorrow.io/reference/data-layers-overview) and the [Timelines Overview](https://docs.tomorrow.io/reference/timeline-overview) for limitations/specifics on suffixes. \n",
    " - `units`, `timesteps`: full list of availability found on [Data Layers Overview](https://docs.tomorrow.io/reference/data-layers-overview).\n",
    " - `timezone`: function below sets default timezone as `America/New_York`, but can be changed by editing the function.\n",
    " - `startTime`, `endTime`: must be in ISO 8601 format - you can use the `datetime` module in Python to convert dates to this format if necessary.\n",
    "    - Both are optional parameters - Tomorrow.io has built-in default values."
   ]
  },
  {
   "cell_type": "code",
   "execution_count": 2,
   "metadata": {},
   "outputs": [],
   "source": [
    "def call_point(point, fields, timestep, start=None, end=None):\n",
    "    #perform API call\n",
    "    url = 'https://api.tomorrow.io/v4/timelines?apikey=' + KEY\n",
    "    querystring = {\n",
    "        'location': point, \n",
    "        'fields': fields, \n",
    "        'units':'metric', \n",
    "        'timesteps': timestep, \n",
    "        'timezone': 'America/New_York',\n",
    "        'startTime': start,\n",
    "        'endTime': end\n",
    "    }\n",
    "    headers = {'Accept': 'application/json'}\n",
    "    response = requests.request(\"GET\", url, headers=headers, params=querystring)\n",
    "    return response"
   ]
  },
  {
   "cell_type": "code",
   "execution_count": 23,
   "metadata": {},
   "outputs": [],
   "source": [
    "def call_line(coordinates, fields, timestep):\n",
    "    #perform API call\n",
    "    url = 'https://api.tomorrow.io/v4/timelines?apikey=' + KEY\n",
    "    \n",
    "    payload = {\n",
    "        'units':'metric', \n",
    "        'timesteps': timestep, \n",
    "        'location': point, \n",
    "        'fields': fields, \n",
    "        'timezone': 'America/New_York',\n",
    "        #'startTime': start,\n",
    "        #'endTime': end,\n",
    "        'location': {\n",
    "            'type': 'LineString',\n",
    "            'coordinates': coordinates},\n",
    "    }\n",
    "    \n",
    "    headers = {\n",
    "    \"Accept\": \"application/json\",\n",
    "    \"Content-Type\": \"application/json\"\n",
    "    }\n",
    "    \n",
    "    response = requests.request(\"POST\", url, json=payload, headers=headers)\n",
    "    return response"
   ]
  },
  {
   "cell_type": "code",
   "execution_count": 34,
   "metadata": {},
   "outputs": [],
   "source": [
    "point = '30.2, 78.5'\n",
    "coordinates = [[79.3156,30.3397], [79.3136,30.3641,], [79.3,30.3]]\n",
    "fields = ['precipitationIntensityMax', 'rainAccumulation', 'temperature', 'windSpeed', 'soilMoistureVolumetric0To10']\n",
    "timestep = ['1h']\n",
    "\n",
    "#data = call_point(point, fields, timestep)\n",
    "data_line = call_line(coordinates, fields, timestep)"
   ]
  },
  {
   "cell_type": "code",
   "execution_count": null,
   "metadata": {},
   "outputs": [],
   "source": [
    "data_line.text"
   ]
  },
  {
   "cell_type": "markdown",
   "metadata": {},
   "source": [
    "Tomorrow.io returns the data in a json-format, which needs some formatting to be readable in pandas (for further analysis):"
   ]
  },
  {
   "cell_type": "code",
   "execution_count": 29,
   "metadata": {},
   "outputs": [],
   "source": [
    "def format_response(response):\n",
    "    #text = json.loads(response.text)\n",
    "    timelines = response['data']['timelines']\n",
    "    nest = timelines[0]['intervals'] #list - each element is a dictionary with startTime and values\n",
    "    startTimes = pd.DataFrame(nest)['startTime']\n",
    "\n",
    "    val = nest[0]['values'] #first time-stamp value\n",
    "    values = pd.DataFrame(val, index=[0])\n",
    "\n",
    "    #iterate through all time-stamps\n",
    "    for i in range(1, len(startTimes)):\n",
    "        val = nest[i]['values']\n",
    "        df = pd.DataFrame(val, index=[i])\n",
    "        values = pd.concat([values, df], axis=0)\n",
    "\n",
    "    data = pd.concat([startTimes, values], axis=1)\n",
    "    return data"
   ]
  },
  {
   "cell_type": "code",
   "execution_count": null,
   "metadata": {},
   "outputs": [],
   "source": [
    "json.loads(data_line.text)"
   ]
  },
  {
   "cell_type": "code",
   "execution_count": null,
   "metadata": {},
   "outputs": [],
   "source": []
  }
 ],
 "metadata": {
  "kernelspec": {
   "display_name": "Python 3",
   "language": "python",
   "name": "python3"
  },
  "language_info": {
   "codemirror_mode": {
    "name": "ipython",
    "version": 3
   },
   "file_extension": ".py",
   "mimetype": "text/x-python",
   "name": "python",
   "nbconvert_exporter": "python",
   "pygments_lexer": "ipython3",
   "version": "3.8.5"
  }
 },
 "nbformat": 4,
 "nbformat_minor": 4
}
