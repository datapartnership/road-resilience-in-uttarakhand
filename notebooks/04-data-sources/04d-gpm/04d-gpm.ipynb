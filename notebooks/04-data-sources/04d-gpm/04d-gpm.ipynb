{
 "cells": [
  {
   "cell_type": "code",
   "execution_count": null,
   "metadata": {},
   "outputs": [],
   "source": [
    "import h5py\n",
    "import numpy as np\n",
    "import netCDF4 as n"
   ]
  },
  {
   "cell_type": "markdown",
   "metadata": {},
   "source": [
    "### 04a-gpm\n",
    "\n",
    "**Summary:** an exploration on using NOAA's GSOD (Global Summary of the Day) as a historical weather data source\n",
    "\n",
    "List of helpful links:\n"
   ]
  },
  {
   "cell_type": "markdown",
   "metadata": {},
   "source": [
    "#### .HDF5 files\n",
    "\n",
    "3A runs are .HDF files"
   ]
  },
  {
   "cell_type": "code",
   "execution_count": 1,
   "metadata": {},
   "outputs": [
    {
     "name": "stdout",
     "output_type": "stream",
     "text": [
      "Keys: <KeysViewHDF5 ['Grid', 'InputAlgorithmVersions', 'InputFileNames', 'InputGenerationDateTimes']>\n"
     ]
    }
   ],
   "source": [
    "filename = \"3A-DAY.GPM.GMI.GRID2017R1.20210801-S000000-E235959.213.V05B.HDF5\"\n",
    "\n",
    "with h5py.File(filename, \"r\") as f:\n",
    "    # List all groups\n",
    "    print(\"Keys: %s\" % f.keys())\n",
    "    a_group_key = list(f.keys())[0]\n",
    "\n",
    "    # Get the data\n",
    "    data = list(f[a_group_key])"
   ]
  },
  {
   "cell_type": "code",
   "execution_count": 12,
   "metadata": {},
   "outputs": [
    {
     "data": {
      "text/plain": [
       "['surfacePrecipitation',\n",
       " 'convectivePrecipitation',\n",
       " 'frozenPrecipitation',\n",
       " 'rainWaterPath',\n",
       " 'cloudWaterPath',\n",
       " 'iceWaterPath',\n",
       " 'rainWater',\n",
       " 'cloudWater',\n",
       " 'cloudIce',\n",
       " 'snow',\n",
       " 'npixTotal',\n",
       " 'npixPrecipitation',\n",
       " 'surfaceTypeIndex',\n",
       " 'fractionQuality0',\n",
       " 'fractionQuality1',\n",
       " 'fractionQuality2',\n",
       " 'fractionQuality3']"
      ]
     },
     "execution_count": 12,
     "metadata": {},
     "output_type": "execute_result"
    }
   ],
   "source": [
    "data"
   ]
  },
  {
   "cell_type": "code",
   "execution_count": 14,
   "metadata": {},
   "outputs": [],
   "source": [
    "dataset = h5py.File('3A-DAY.GPM.GMI.GRID2017R1.20210801-S000000-E235959.213.V05B.HDF5', 'r')\n",
    "precip = dataset['Grid/surfacePrecipitation'][:]\n",
    "precip = np.transpose(precip)"
   ]
  },
  {
   "cell_type": "code",
   "execution_count": 20,
   "metadata": {},
   "outputs": [
    {
     "data": {
      "text/plain": [
       "0.043743126"
      ]
     },
     "execution_count": 20,
     "metadata": {},
     "output_type": "execute_result"
    }
   ],
   "source": [
    "precip[120,400] #can query as needed"
   ]
  },
  {
   "cell_type": "markdown",
   "metadata": {},
   "source": [
    "#### .nc4 files\n",
    "\n",
    "3B day runs are .nc4 files"
   ]
  },
  {
   "cell_type": "code",
   "execution_count": 2,
   "metadata": {},
   "outputs": [],
   "source": [
    "fn = '3B-DAY-L.MS.MRG.3IMERG.20210801-S000000-E235959.V06.nc4'\n",
    "ds = nc.Dataset(fn)"
   ]
  },
  {
   "cell_type": "code",
   "execution_count": 25,
   "metadata": {},
   "outputs": [
    {
     "data": {
      "text/plain": [
       "<class 'netCDF4._netCDF4.Dataset'>\n",
       "root group (NETCDF4 data model, file format HDF5):\n",
       "    BeginDate: 2021-08-01\n",
       "    BeginTime: 00:00:00.000Z\n",
       "    EndDate: 2021-08-01\n",
       "    EndTime: 23:59:59.999Z\n",
       "    FileHeader: StartGranuleDateTime=2021-08-01T00:00:00.000Z;\n",
       "StopGranuleDateTime=2021-08-01T23:59:59.999Z\n",
       "    InputPointer: 3B-HHR-L.MS.MRG.3IMERG.20210801-S000000-E002959.0000.V06B.HDF5;3B-HHR-L.MS.MRG.3IMERG.20210801-S003000-E005959.0030.V06B.HDF5;3B-HHR-L.MS.MRG.3IMERG.20210801-S010000-E012959.0060.V06B.HDF5;3B-HHR-L.MS.MRG.3IMERG.20210801-S013000-E015959.0090.V06B.HDF5;3B-HHR-L.MS.MRG.3IMERG.20210801-S020000-E022959.0120.V06B.HDF5;3B-HHR-L.MS.MRG.3IMERG.20210801-S023000-E025959.0150.V06B.HDF5;3B-HHR-L.MS.MRG.3IMERG.20210801-S030000-E032959.0180.V06B.HDF5;3B-HHR-L.MS.MRG.3IMERG.20210801-S033000-E035959.0210.V06B.HDF5;3B-HHR-L.MS.MRG.3IMERG.20210801-S040000-E042959.0240.V06B.HDF5;3B-HHR-L.MS.MRG.3IMERG.20210801-S043000-E045959.0270.V06B.HDF5;3B-HHR-L.MS.MRG.3IMERG.20210801-S050000-E052959.0300.V06B.HDF5;3B-HHR-L.MS.MRG.3IMERG.20210801-S053000-E055959.0330.V06B.HDF5;3B-HHR-L.MS.MRG.3IMERG.20210801-S060000-E062959.0360.V06B.HDF5;3B-HHR-L.MS.MRG.3IMERG.20210801-S063000-E065959.0390.V06B.HDF5;3B-HHR-L.MS.MRG.3IMERG.20210801-S070000-E072959.0420.V06B.HDF5;3B-HHR-L.MS.MRG.3IMERG.20210801-S073000-E075959.0450.V06B.HDF5;3B-HHR-L.MS.MRG.3IMERG.20210801-S080000-E082959.0480.V06B.HDF5;3B-HHR-L.MS.MRG.3IMERG.20210801-S083000-E085959.0510.V06B.HDF5;3B-HHR-L.MS.MRG.3IMERG.20210801-S090000-E092959.0540.V06B.HDF5;3B-HHR-L.MS.MRG.3IMERG.20210801-S093000-E095959.0570.V06B.HDF5;3B-HHR-L.MS.MRG.3IMERG.20210801-S100000-E102959.0600.V06B.HDF5;3B-HHR-L.MS.MRG.3IMERG.20210801-S103000-E105959.0630.V06B.HDF5;3B-HHR-L.MS.MRG.3IMERG.20210801-S110000-E112959.0660.V06B.HDF5;3B-HHR-L.MS.MRG.3IMERG.20210801-S113000-E115959.0690.V06B.HDF5;3B-HHR-L.MS.MRG.3IMERG.20210801-S120000-E122959.0720.V06B.HDF5;3B-HHR-L.MS.MRG.3IMERG.20210801-S123000-E125959.0750.V06B.HDF5;3B-HHR-L.MS.MRG.3IMERG.20210801-S130000-E132959.0780.V06B.HDF5;3B-HHR-L.MS.MRG.3IMERG.20210801-S133000-E135959.0810.V06B.HDF5;3B-HHR-L.MS.MRG.3IMERG.20210801-S140000-E142959.0840.V06B.HDF5;3B-HHR-L.MS.MRG.3IMERG.20210801-S143000-E145959.0870.V06B.HDF5;3B-HHR-L.MS.MRG.3IMERG.20210801-S150000-E152959.0900.V06B.HDF5;3B-HHR-L.MS.MRG.3IMERG.20210801-S153000-E155959.0930.V06B.HDF5;3B-HHR-L.MS.MRG.3IMERG.20210801-S160000-E162959.0960.V06B.HDF5;3B-HHR-L.MS.MRG.3IMERG.20210801-S163000-E165959.0990.V06B.HDF5;3B-HHR-L.MS.MRG.3IMERG.20210801-S170000-E172959.1020.V06B.HDF5;3B-HHR-L.MS.MRG.3IMERG.20210801-S173000-E175959.1050.V06B.HDF5;3B-HHR-L.MS.MRG.3IMERG.20210801-S180000-E182959.1080.V06B.HDF5;3B-HHR-L.MS.MRG.3IMERG.20210801-S183000-E185959.1110.V06B.HDF5;3B-HHR-L.MS.MRG.3IMERG.20210801-S190000-E192959.1140.V06B.HDF5;3B-HHR-L.MS.MRG.3IMERG.20210801-S193000-E195959.1170.V06B.HDF5;3B-HHR-L.MS.MRG.3IMERG.20210801-S200000-E202959.1200.V06B.HDF5;3B-HHR-L.MS.MRG.3IMERG.20210801-S203000-E205959.1230.V06B.HDF5;3B-HHR-L.MS.MRG.3IMERG.20210801-S210000-E212959.1260.V06B.HDF5;3B-HHR-L.MS.MRG.3IMERG.20210801-S213000-E215959.1290.V06B.HDF5;3B-HHR-L.MS.MRG.3IMERG.20210801-S220000-E222959.1320.V06B.HDF5;3B-HHR-L.MS.MRG.3IMERG.20210801-S223000-E225959.1350.V06B.HDF5;3B-HHR-L.MS.MRG.3IMERG.20210801-S230000-E232959.1380.V06B.HDF5;3B-HHR-L.MS.MRG.3IMERG.20210801-S233000-E235959.1410.V06B.HDF5\n",
       "    title: GPM IMERG Late Precipitation L3 1 day 0.1 degree x 0.1 degree (GPM_3IMERGDL)\n",
       "    DOI: 10.5067/GPM/IMERGDL/DAY/06\n",
       "    ProductionTime: 2021-08-02T15:43:02.178Z\n",
       "    dimensions(sizes): lon(3600), lat(1800), time(1), nv(2)\n",
       "    variables(dimensions): float32 precipitationCal(time, lon, lat), int8 precipitationCal_cnt(time, lon, lat), int8 precipitationCal_cnt_cond(time, lon, lat), float32 HQprecipitation(time, lon, lat), int8 HQprecipitation_cnt(time, lon, lat), int8 HQprecipitation_cnt_cond(time, lon, lat), float32 randomError(time, lon, lat), int8 randomError_cnt(time, lon, lat), float32 lon(lon), float32 lat(lat), float64 time(time), float64 time_bnds(time, nv)\n",
       "    groups: "
      ]
     },
     "execution_count": 25,
     "metadata": {},
     "output_type": "execute_result"
    }
   ],
   "source": [
    "ds"
   ]
  },
  {
   "cell_type": "code",
   "execution_count": 16,
   "metadata": {},
   "outputs": [],
   "source": [
    "data = ds['precipitationCal'][:].data[0]"
   ]
  },
  {
   "cell_type": "code",
   "execution_count": 23,
   "metadata": {},
   "outputs": [
    {
     "data": {
      "text/plain": [
       "-9999.9"
      ]
     },
     "execution_count": 23,
     "metadata": {},
     "output_type": "execute_result"
    }
   ],
   "source": [
    "data[0,0] #can also query as needed, but format is lon/lat instead of lat/lon"
   ]
  }
 ],
 "metadata": {
  "kernelspec": {
   "display_name": "Python 3",
   "language": "python",
   "name": "python3"
  },
  "language_info": {
   "codemirror_mode": {
    "name": "ipython",
    "version": 3
   },
   "file_extension": ".py",
   "mimetype": "text/x-python",
   "name": "python",
   "nbconvert_exporter": "python",
   "pygments_lexer": "ipython3",
   "version": "3.8.5"
  }
 },
 "nbformat": 4,
 "nbformat_minor": 4
}
